{
 "cells": [
  {
   "cell_type": "markdown",
   "metadata": {},
   "source": [
    "# Assignment with Rubric\n",
    "\n",
    "## Authors\n",
    "\n",
    "R. Treharne\n",
    "\n",
    "## Overview\n",
    "\n",
    "This notebook will allow a teacher to extract rubric scores from submissions.\n",
    "\n",
    "## Requirements\n",
    "\n",
    "If you are running this in Google Colab then you will need to click the \"Copy to Drive\" button before you can interact with the notebook. Also, you will need to install the `canvasapi` Python module by running the cell below:"
   ]
  },
  {
   "cell_type": "code",
   "execution_count": null,
   "metadata": {},
   "outputs": [],
   "source": [
    "# If using Colab, run this cell\n",
    "!pip install canvasapi"
   ]
  },
  {
   "cell_type": "markdown",
   "metadata": {},
   "source": [
    "## Usage\n",
    "\n",
    "Run the following cells to generate a report on an assignment. \n",
    "\n",
    "You will be prompted to enter the following:\n",
    "\n",
    "+ Your Canvas URL (e.g. \"https://canvas.instructure.com\")\n",
    "+ Your Canvas API Token\n",
    "+ Your Course ID\n",
    "+ Your Assignment ID"
   ]
  },
  {
   "cell_type": "code",
   "execution_count": null,
   "metadata": {},
   "outputs": [],
   "source": [
    "# Important. Run this cell and respond to the prompts to set up your Canvas API object.\n",
    "\n",
    "import getpass\n",
    "import pandas as pd\n",
    "from canvasapi import Canvas\n",
    "import datetime\n",
    "\n",
    "CANVAS_URL = input(\"Input your canvas URL: \")\n",
    "CANVAS_TOKEN = getpass.getpass(\"Input your canvas API TOKEN: \")\n",
    "\n",
    "canvas = Canvas(CANVAS_URL, CANVAS_TOKEN)"
   ]
  },
  {
   "cell_type": "code",
   "execution_count": null,
   "metadata": {},
   "outputs": [],
   "source": [
    "# Important. Run this cell.\n",
    "\n",
    "COURSE_ID = input(\"Input the canvas course ID: \")\n",
    "ASSIGNMENT_ID = input(\"Input the assignment ID: \")\n",
    "\n",
    "course = canvas.get_course(COURSE_ID)\n",
    "assignment = course.get_assignment(ASSIGNMENT_ID)"
   ]
  },
  {
   "cell_type": "code",
   "execution_count": null,
   "metadata": {},
   "outputs": [],
   "source": [
    "# Important. Run this cell.\n",
    "# This cell contains the functions that will be used to generate the report.\n",
    "# Do not edit this .\n",
    "\n",
    "def get_enrollments(course):\n",
    "    enrollments = [x for x in course.get_enrollments(include=[\"user\"])]\n",
    "    return enrollments\n",
    "\n",
    "def get_user_from_id(user_id, enrollments):\n",
    "    for enrollment in enrollments:\n",
    "        if enrollment.user_id == user_id:\n",
    "            return enrollment.user[\"sortable_name\"]\n",
    "        \n",
    "def get_rubric_categories(rubric):\n",
    "    rubric_categories = [x[\"description\"] for x in rubric.data]\n",
    "    return rubric_categories\n",
    "\n",
    "def generate_report(course, assignment):\n",
    "\n",
    "    print(\"Getting enrollments...\")\n",
    "    enrollments = get_enrollments(course)\n",
    "    \n",
    "    print(\"Getting submissions...\")\n",
    "    submissions = [x for x in assignment.get_submissions(include=[\"submission_comments\", \"user\", \"rubric_assessment\"])]\n",
    "\n",
    "    rubric = course.get_rubric(assignment.rubric_settings[\"id\"])\n",
    "\n",
    "    rubric_categories = get_rubric_categories(rubric)\n",
    "\n",
    "    report = []\n",
    "\n",
    "    \"Generating report...\"\n",
    "    for submission in submissions:\n",
    "        \n",
    "        row = {}\n",
    "\n",
    "        try:\n",
    "            marker_name = get_user_from_id(submission.grader_id, enrollments)\n",
    "        except:\n",
    "            marker_name = \"\"\n",
    "\n",
    "        row[\"user_id\"] = submission.user_id\n",
    "        row[\"sis_user_id\"] = submission.user[\"sis_user_id\"]\n",
    "        row[\"name\"] = submission.user[\"sortable_name\"]\n",
    "        row[\"submitted_at\"] = submission.submitted_at\n",
    "        row[\"late_sec\"] = submission.seconds_late\n",
    "        row[\"workflow_state\"] = submission.workflow_state\n",
    "        row[\"graded_at\"] = submission.graded_at\n",
    "        row[\"marker_name\"] = marker_name\n",
    "        row[\"score\"] = submission.score\n",
    "\n",
    "        try:\n",
    "            row[\"comments\"] = submission.submission_comments\n",
    "        except:\n",
    "            row[\"comments\"] = \"\"\n",
    "        \n",
    "        try:\n",
    "            rubric_assessment = submission.rubric_assessment\n",
    "        except:\n",
    "            rubric_assessment = None\n",
    "\n",
    "        if rubric_assessment:\n",
    "            for cat, rat in zip(rubric_categories, rubric_assessment):\n",
    "                try:\n",
    "                    row[\"rubric_\" + cat.lower().replace(\" \", \"_\")] = rubric_assessment[rat][\"points\"]\n",
    "                except:\n",
    "                    row[\"rubric_\" + cat.lower().replace(\" \", \"_\")] = \"\"\n",
    "\n",
    "        report.append(row)\n",
    "    \n",
    "    report = pd.DataFrame(report)\n",
    "\n",
    "    # Get timestamp string\n",
    "    now = datetime.datetime.now()\n",
    "    timestamp = now.strftime(\"%Y%m%d_%H%M%S\")\n",
    "\n",
    "    # Save report\n",
    "    print(\"Saving report...\")\n",
    "    fname = f\"{timestamp}_{str(COURSE_ID)}_{str(ASSIGNMENT_ID)}.csv\"\n",
    "    report.to_csv(fname, index=False)\n",
    "    print(f\"Report saved as {fname}\")\n",
    "    \n",
    "    return report"
   ]
  },
  {
   "cell_type": "code",
   "execution_count": null,
   "metadata": {},
   "outputs": [],
   "source": [
    "# Run this cell to generate the report and save it.\n",
    "report = generate_report(course, assignment)"
   ]
  },
  {
   "cell_type": "markdown",
   "metadata": {},
   "source": [
    "If you're using Google colab then click the \"files\" icon in the left toolbar and then download the file."
   ]
  },
  {
   "cell_type": "markdown",
   "metadata": {},
   "source": []
  }
 ],
 "metadata": {
  "kernelspec": {
   "display_name": "Python 3",
   "language": "python",
   "name": "python3"
  },
  "language_info": {
   "codemirror_mode": {
    "name": "ipython",
    "version": 3
   },
   "file_extension": ".py",
   "mimetype": "text/x-python",
   "name": "python",
   "nbconvert_exporter": "python",
   "pygments_lexer": "ipython3",
   "version": "3.12.0"
  }
 },
 "nbformat": 4,
 "nbformat_minor": 2
}
