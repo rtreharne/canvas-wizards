{
 "cells": [
  {
   "cell_type": "markdown",
   "id": "7f02c806",
   "metadata": {},
   "source": [
    "# Getting Started\n",
    "\n",
    "## What is an API?\n",
    "\n",
    "An **application programming interface** (API) is a set of stored functions or procedures that allow you get, create or edit data from an application without having to use a graphical interface (e.g. a website). The Canvas API will allow you to do almost anything that you currently do using the standard user interface. \n",
    "\n",
    "The Canvas API is extremely well documented and, while the documentation may seem impenetrable at first, reading the docs can solve most problems. Check it out at <a href=\"https://canvas.instructure.com/doc/api/\" target=\"_blank\">https://canvas.instructure.com/doc/api/</a>.\n",
    "\n",
    "*\"So what?\"* - I hear you say. Well, the power of the API lies with the ability to prepare snippets of code (we're going to use **Python** here) to make use of the API's functions in order to automate repetitive tasks and cut your workload dramatically.\n",
    "\n",
    "*\"OMG, I have to write code?\"*. Well, yes. Get over it. It's really not that bad and this book is going to guide you all the way. Deep breath now, let's dive in."
   ]
  },
  {
   "cell_type": "markdown",
   "id": "fc865f61",
   "metadata": {},
   "source": [
    "## Setup and Configuration\n",
    "\n",
    "There are about a **zillion** different ways that you could create a coding environment in which you can begin your tranformation to Canvas wizard. The best way for you get started will be to click the little *rocket icon* at the top of this page and then click the *Binder* button. You might have to wait a couple of minutes while the environment is created but once it's ready you'll be good to go without having to download or install a single thing. Wizard!\n",
    "\n",
    "Or, you can click the *Colab* button and open a notebook using the Google Colab platform for online notebooks. You will also need use the \"Copy to Drive\" button to run the code on the page - this will require you to login using a Google account.\n",
    "\n",
    "If you're hardcore you can click the download button in the top-right and download the .ipynb for each section and run it on your local machine using **Jupyter Notebook**. For advice on how to install Jupyter Notebook checkout <a href=\"https://www.geeksforgeeks.org/how-to-install-jupyter-notebook-in-windows/\" target=\"_blank\">this article</a>.\n",
    "\n",
    "```{note}\n",
    "If you're new to all of this then the Binder option above is strongly recommended. \n",
    "```"
   ]
  },
  {
   "cell_type": "markdown",
   "id": "c283c79c",
   "metadata": {},
   "source": [
    "## Ready for a Test Drive\n",
    "\n",
    "OK. I think you're ready to try a few lines of code yourself. Let's start simple. How about trying to get a list of all the Canvas courses you're currently enrolled on? This is pretty easy.\n",
    "\n",
    "First, ensure that you've imported the canvasapi module for Python by running the following cell:"
   ]
  },
  {
   "cell_type": "code",
   "execution_count": null,
   "id": "900b9c6a",
   "metadata": {},
   "outputs": [],
   "source": [
    "from canvasapi import Canvas"
   ]
  },
  {
   "cell_type": "markdown",
   "id": "b8aac159",
   "metadata": {},
   "source": [
    "```{note}\n",
    "If you're using Colab of Jupyter Notebook you'll need to install the canvasapi first using the command `!pip install \n",
    "```\n",
    "```{code}\n",
    "!pip install canvasapi\n",
    "```"
   ]
  },
  {
   "cell_type": "code",
   "execution_count": null,
   "id": "5434c277",
   "metadata": {},
   "outputs": [],
   "source": []
  },
  {
   "cell_type": "code",
   "execution_count": null,
   "id": "de7fe696",
   "metadata": {},
   "outputs": [],
   "source": []
  }
 ],
 "metadata": {
  "kernelspec": {
   "display_name": "Python 3 (ipykernel)",
   "language": "python",
   "name": "python3"
  },
  "language_info": {
   "codemirror_mode": {
    "name": "ipython",
    "version": 3
   },
   "file_extension": ".py",
   "mimetype": "text/x-python",
   "name": "python",
   "nbconvert_exporter": "python",
   "pygments_lexer": "ipython3",
   "version": "3.10.6"
  }
 },
 "nbformat": 4,
 "nbformat_minor": 5
}
