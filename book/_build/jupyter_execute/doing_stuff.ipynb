{
 "cells": [
  {
   "cell_type": "markdown",
   "metadata": {
    "id": "FOOGJgDiXyYY"
   },
   "source": [
    "# Doing stuff across multiple courses\n",
    "\n",
    "## Authors\n",
    "*R. Treharne*\n",
    "\n",
    "## Description\n",
    "\n",
    "This tool will update the assignment deadlines across multiple Canvas courses\n",
    "\n",
    "<img src=\"https://github.com/rtreharne/random/blob/main/telife_trans_pink.png?raw=true\" width=200>"
   ]
  },
  {
   "cell_type": "markdown",
   "metadata": {
    "id": "Roixf9VAc8pv"
   },
   "source": [
    "# Step 1. Install canvasapi and configure Canvas API session"
   ]
  },
  {
   "cell_type": "code",
   "execution_count": 1,
   "metadata": {
    "id": "49oooVgK9c3N"
   },
   "outputs": [],
   "source": [
    "# Run this cell to import the necessary modules from canvasapi and other Python modules\n",
    "\n",
    "from canvasapi import Canvas\n",
    "import pandas as pd\n",
    "import numpy as np\n",
    "import re\n",
    "from datetime import datetime, timedelta, timezone\n",
    "from tqdm import tqdm\n",
    " \n",
    "API_URL = \"https://canvas.liverpool.ac.uk/\"\n",
    "\n",
    "API_KEY = \"<INPUT YOUR KEY HERE>\" # Replace everything inside the quotation marks with your API KEY/TOKEN\n",
    "\n",
    "# Where do I get my Canvas API Key from? \n",
    "# https://community.canvaslms.com/t5/Admin-Guide/How-do-I-manage-API-access-tokens-as-an-admin/ta-p/89"
   ]
  },
  {
   "cell_type": "markdown",
   "metadata": {
    "id": "AeMD3WtbKlxR"
   },
   "source": [
    "# Step 2. Run the following cell\n",
    "\n",
    "This cell contains all the code needed to perform the analysis. You need to run this cell, but once you've done this you can ignore the code."
   ]
  },
  {
   "cell_type": "code",
   "execution_count": 113,
   "metadata": {},
   "outputs": [],
   "source": [
    "class MultiCanvas():\n",
    "    def __init__(self, API_URL, API_KEY, label=None, term=None, courses=None):\n",
    "        self.canvas = Canvas(API_URL, API_KEY)\n",
    "        if courses is None:\n",
    "            if label is None:\n",
    "                self.label = str(input(\"Input course code label (e.g. LIFE): \")).upper()\n",
    "            else:\n",
    "                self.label = label\n",
    "            if term is None:\n",
    "                self.term = str(input(\"Input term (e.g. 202223): \"))\n",
    "            else:\n",
    "                self.term = term\n",
    "            self.courses = self.get_courses()\n",
    "        else:\n",
    "            self.courses = courses\n",
    "    \n",
    "    def get_courses(self):\n",
    "        courses = []\n",
    "        for x in tqdm(\n",
    "            range(100, 1000),\n",
    "            desc=\"Getting courses from Canvas\"\n",
    "        ):\n",
    "            try:\n",
    "                course = self.canvas.get_course(\n",
    "                    \"{0}{1}-{2}\".format(self.label, str(x), self.term),\n",
    "                    use_sis_id=True\n",
    "                )\n",
    "                courses.append(course)\n",
    "            except:\n",
    "                continue\n",
    "        return courses\n",
    "    \n",
    "    def get_assignments(self, key, value, update_key=None, update_value=None):\n",
    "        assignments = []\n",
    "        \n",
    "        for course in tqdm(self.courses, desc=\"Getting assignments\"):\n",
    "            course_assignments = [x for x in course.get_assignments() if x.__dict__[key] is not None]\n",
    "            assignments.extend(\n",
    "                [x for x in course_assignments if value in x.__dict__[key]]\n",
    "            )\n",
    "        \n",
    "        if update_key is not None and update_value is not None:\n",
    "            updated_assignments = []\n",
    "            for assignment in assignments:\n",
    "                updated_assignments.append(assignment.edit(assignment={update_key: update_value}))\n",
    "            return updated_assignments\n",
    "            \n",
    "        return assignments\n",
    "    \n",
    "    def get_modules(self, key, value, update_key=None, update_value=None):\n",
    "        modules = []\n",
    "        \n",
    "        for course in tqdm(self.courses, desc=\"Getting modules\"):\n",
    "            course_modules = [x for x in course.get_modules() if x.__dict__[key] is not None]\n",
    "            modules.extend(\n",
    "                [x for x in course_modules if value in x.__dict__[key]]\n",
    "            )\n",
    "        \n",
    "        if update_key is not None and update_value is not None:\n",
    "            updated_modules = []\n",
    "            for module in modules:\n",
    "                updated_modules.append(module.edit(module={update_key: update_value}))\n",
    "            return updated_modules\n",
    "            \n",
    "        return modules\n",
    "            \n",
    "        "
   ]
  },
  {
   "cell_type": "code",
   "execution_count": 112,
   "metadata": {},
   "outputs": [
    {
     "name": "stderr",
     "output_type": "stream",
     "text": [
      "Getting courses from Canvas: 100%|███████████████████████████████████████████████████| 900/900 [02:01<00:00,  7.43it/s]\n"
     ]
    }
   ],
   "source": [
    "canvas_objects = MultiCanvas(API_URL, API_KEY, label=\"LIFE\", term=\"202223\")"
   ]
  },
  {
   "cell_type": "code",
   "execution_count": 117,
   "metadata": {},
   "outputs": [
    {
     "name": "stderr",
     "output_type": "stream",
     "text": [
      "Getting assignments: 100%|███████████████████████████████████████████████████████████| 156/156 [00:55<00:00,  2.79it/s]\n"
     ]
    }
   ],
   "source": [
    "assignments = canvas_objects.get_assignments(\"due_at\", \"2023-01-23\")"
   ]
  },
  {
   "cell_type": "code",
   "execution_count": 119,
   "metadata": {},
   "outputs": [
    {
     "name": "stderr",
     "output_type": "stream",
     "text": [
      "Getting modules: 100%|███████████████████████████████████████████████████████████████| 156/156 [00:42<00:00,  3.68it/s]\n"
     ]
    }
   ],
   "source": [
    "modules = canvas_objects.get_modules(\"unlock_at\", \"2023-01\")"
   ]
  },
  {
   "cell_type": "code",
   "execution_count": 120,
   "metadata": {},
   "outputs": [
    {
     "data": {
      "text/plain": [
       "43"
      ]
     },
     "execution_count": 120,
     "metadata": {},
     "output_type": "execute_result"
    }
   ],
   "source": [
    "len(modules)"
   ]
  },
  {
   "cell_type": "code",
   "execution_count": null,
   "metadata": {},
   "outputs": [],
   "source": []
  }
 ],
 "metadata": {
  "colab": {
   "provenance": []
  },
  "kernelspec": {
   "display_name": "Python 3 (ipykernel)",
   "language": "python",
   "name": "python3"
  },
  "language_info": {
   "codemirror_mode": {
    "name": "ipython",
    "version": 3
   },
   "file_extension": ".py",
   "mimetype": "text/x-python",
   "name": "python",
   "nbconvert_exporter": "python",
   "pygments_lexer": "ipython3",
   "version": "3.10.6"
  }
 },
 "nbformat": 4,
 "nbformat_minor": 1
}