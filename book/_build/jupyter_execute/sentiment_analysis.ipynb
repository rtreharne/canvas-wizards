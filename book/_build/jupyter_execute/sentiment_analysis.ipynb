{
 "cells": [
  {
   "cell_type": "markdown",
   "metadata": {
    "id": "FOOGJgDiXyYY"
   },
   "source": [
    "# Sentiment analysis of feedback\n",
    "\n",
    "## Authors\n",
    "*J. Foster, R. Treharne*\n",
    "\n",
    "## Description\n",
    "\n",
    "This tool will perform an analysis of feedback on submissions for a given (or multiple) assignments. \n",
    "\n",
    "A sentiment analysis is performed to determine sentiment score for each comment, i.e. a relative measure of how positive/negative the overall language in each comment is.\n",
    "\n",
    "A *Feedback Rating* score for each comment is calculated as the product of comment length (number of words) and sentiment score.\n",
    "\n",
    "## Video Walkthrough\n",
    "\n",
    "https://liverpool.instructuremedia.com/embed/e07eec3c-06e7-4ffc-872d-9d9afaf3396f\n",
    "\n",
    "## Warning\n",
    "\n",
    "There is likely to be a high level of subjectivity in the sentiment analysis and a manual audit, to compare feedback comments and corresponding sentiment scores, should be made before drawing any conclusions from the data.\n",
    "\n",
    "Furthermore, this analysis only looks at comments made in the \"comments box\" on Speedgrader. It does not consider in-line comments/annotations made directly on the submitted documents.\n",
    "\n",
    "\n",
    "<img src=\"https://github.com/rtreharne/random/blob/main/telife_trans_pink.png?raw=true\" width=200>"
   ]
  },
  {
   "cell_type": "markdown",
   "metadata": {
    "id": "Roixf9VAc8pv"
   },
   "source": [
    "# Step 1. Install canvasapi and configure Canvas API session"
   ]
  },
  {
   "cell_type": "code",
   "execution_count": 1,
   "metadata": {
    "id": "49oooVgK9c3N"
   },
   "outputs": [
    {
     "name": "stderr",
     "output_type": "stream",
     "text": [
      "[nltk_data] Downloading package punkt to /home/treharne/nltk_data...\n",
      "[nltk_data]   Package punkt is already up-to-date!\n"
     ]
    }
   ],
   "source": [
    "# Run this cell to import the necessary modules from canvasapi and other Python modules\n",
    "\n",
    "from canvasapi import Canvas\n",
    "import pandas as pd\n",
    "import numpy as np\n",
    "import re\n",
    "from datetime import datetime, timedelta, timezone\n",
    "from textblob import TextBlob\n",
    "import plotly.express as px\n",
    "import nltk\n",
    "nltk.download('punkt')\n",
    " \n",
    "API_URL = \"https://canvas.liverpool.ac.uk/\"\n",
    " \n",
    "API_KEY = \"<INPUT YOUR KEY HERE>\" # Replace everything inside the quotation marks with your API KEY/TOKEN\n",
    "\n",
    "# Where do I get my Canvas API Key from? \n",
    "# https://community.canvaslms.com/t5/Admin-Guide/How-do-I-manage-API-access-tokens-as-an-admin/ta-p/89"
   ]
  },
  {
   "cell_type": "code",
   "execution_count": 2,
   "metadata": {},
   "outputs": [],
   "source": [
    "# Uncomment and run the line below to create a Canvas session\n",
    "\n",
    "# canvas = Canvas(API_URL, API_KEY)"
   ]
  },
  {
   "cell_type": "markdown",
   "metadata": {
    "id": "AeMD3WtbKlxR"
   },
   "source": [
    "# Step 2. Run the following cell\n",
    "\n",
    "This cell contains all the code needed to perform the analysis. You need to run this cell, but once you've done this you can ignore the code."
   ]
  },
  {
   "cell_type": "code",
   "execution_count": 3,
   "metadata": {
    "id": "5--t4rvKM6m9"
   },
   "outputs": [],
   "source": [
    "import matplotlib.pyplot as plt\n",
    "import numpy as np\n",
    "\n",
    "class SpeedgraderAnalysis():\n",
    "    def __init__(self, urls):\n",
    "        self.urls = urls\n",
    "\n",
    "        df_list = []\n",
    "      \n",
    "        if isinstance(urls, str):\n",
    "            self.urls = [urls]\n",
    "            \n",
    "        for url in self.urls:\n",
    "            course_id, assignment_id = self.get_course_assignment(url)\n",
    "            assignment = canvas.get_course(course_id).get_assignment(assignment_id)\n",
    "            df_list.append(self.get_submissions_comments(assignment))\n",
    "\n",
    "        self.submissions_comments = pd.concat(df_list)\n",
    "\n",
    "        self.sentiment_analysis()\n",
    "        self.summary = self.get_averages()\n",
    "\n",
    "    def get_course_assignment(self, url):\n",
    "        return [int(x) for x in re.findall(\"[0-9]+\", url)]\n",
    "    \n",
    "    def get_submissions_comments(self, assignment):\n",
    "        submissions = [x for x in assignment.get_submissions(include=[\"submission_comments\"])]\n",
    "        submission_comments = []\n",
    "        for sub in submissions:\n",
    "            row = []\n",
    "            for comment in sub.submission_comments:\n",
    "                row={\n",
    "                    \"comment\": comment[\"comment\"],\n",
    "                    \"marker\": comment[\"author_name\"],\n",
    "                    \"score\": sub.score,                  \n",
    "                }\n",
    "                submission_comments.append(row)\n",
    "        return pd.DataFrame(submission_comments)\n",
    "    \n",
    "    def sentiment_analysis(self):\n",
    "        comments = self.submissions_comments.comment.tolist()\n",
    "        comment_length = []\n",
    "        comment_sentiment = []\n",
    "        for comment in comments:\n",
    "            blob = TextBlob(comment)\n",
    "            comment_length.append(len(blob.words))\n",
    "            comment_sentiment.append(blob.sentiment.polarity)\n",
    "\n",
    "        self.submissions_comments[\"comment_length\"] = comment_length\n",
    "        self.submissions_comments[\"comment_sentiment\"] = comment_sentiment\n",
    "        self.submissions_comments[\"feedback_quality\"] = np.array(comment_length)*np.array(comment_sentiment)\n",
    "\n",
    "    def plot(self, marker=None, title=\"\"):\n",
    "        data = self.submissions_comments\n",
    "        data[\"color\"] = \"All\"\n",
    "\n",
    "        if marker is not None:\n",
    "            if type(marker) == \"str\":\n",
    "                data.loc[(data.marker.str.contains(marker)), \"color\"] = marker\n",
    "            else:\n",
    "                for m in marker:\n",
    "                    data.loc[(data.marker.str.contains(m)), \"color\"] = m\n",
    "\n",
    "        fig = px.scatter(data, x=\"score\", \n",
    "                         y=\"feedback_quality\", \n",
    "                         #hover_data=[\"Marker: \" + x + \", Sentiment: \" + str(y) for x, y in zip(data[\"marker\"], data[\"comment_sentiment\"])], \n",
    "                         size=np.array(data[\"comment_length\"]), \n",
    "                         opacity=0.8,\n",
    "                         color=\"color\",\n",
    "                         labels = {\n",
    "                             \"score\": \"Grade (%)\",\n",
    "                             \"feedback_quality\": \"Feedback Rating (arb. units)\"\n",
    "                         },\n",
    "                         #trendline='ols',\n",
    "                         #trendline_scope='overall',\n",
    "                         custom_data = [\"marker\", \"comment_length\", \"comment_sentiment\", \"comment\"],\n",
    "                         title=title\n",
    "                         )\n",
    "        \n",
    "        fig.update_traces(\n",
    "            hovertemplate=\"<br>\".join([\n",
    "                \"Feedback Rating (arb. units): %{y:.1f}\",\n",
    "                \"Grade (%): %{x}\",\n",
    "                \"Marker: %{customdata[0]}\",\n",
    "                \"Comment Length (words): %{customdata[1]}\",\n",
    "                \"Sentiment (arb. units): %{customdata[2]:.4f}\"\n",
    "\n",
    "            ])\n",
    "        )\n",
    "\n",
    "        #fig.update_traces(mode=\"markers+trendline\")\n",
    "        fig.add_hline(y=data[\"feedback_quality\"].mean(), line_color='red', opacity=0.2, annotation_text=\"Mean Reedback Rating\")\n",
    "        fig.add_vline(x=data[\"score\"].mean(), line_color='red', opacity=0.2, annotation_text=\"Mean Score\")\n",
    "\n",
    "\n",
    "        fig.show()\n",
    "\n",
    "    def get_averages(self):\n",
    "        summary = self.submissions_comments.groupby([\"marker\"]).mean()\n",
    "        return summary\n",
    "\n",
    "    def comment_length_bar(self, ascending=True, length=20):\n",
    "        fig, ax = plt.subplots(figsize=(5, int(length/2)))\n",
    "        self.submissions_comments.groupby([\"marker\"]).mean().sort_values(by=[\"comment_length\"], ascending=ascending).tail(length).plot.barh(y=\"comment_length\", ax=ax)\n",
    "        fig.show()"
   ]
  },
  {
   "cell_type": "markdown",
   "metadata": {
    "id": "J8susiRJJVLe"
   },
   "source": [
    "# 3. Analyse a Canvas Speedgrader assignment\n",
    "\n",
    "Run the following commant to perform a sentiment analysis on a specific assignment:\n",
    "\n",
    "`result = SpeedgraderAnalysis(url)`\n",
    "\n",
    "where the `url` parameter corresponds to the url string of the corresponding assignment.\n",
    "\n",
    "You can also submit multiple urls for simultaneous analysis by using a list, e.g:\n",
    "\n",
    "```\n",
    "urls = [\n",
    "    \"https://canvas.liverpool.ac.uk/courses/60973/assignments/208996\",\n",
    "    \"https://canvas.liverpool.ac.uk/courses/60973/assignments/209009\",\n",
    "    ]\n",
    "```\n"
   ]
  },
  {
   "cell_type": "code",
   "execution_count": 4,
   "metadata": {
    "id": "KqQFmzJQJP_4"
   },
   "outputs": [],
   "source": [
    "url = \"https://liverpool.instructure.com/courses/58609/assignments/218636\" # LIFE223_1 as an example\n",
    "\n",
    "# Uncomment the following line to run:\n",
    "\n",
    "# result = SpeedgraderAnalysis(url) #!important"
   ]
  },
  {
   "cell_type": "code",
   "execution_count": 5,
   "metadata": {
    "id": "8GflpbH4Kjsp"
   },
   "outputs": [],
   "source": [
    "# Once you're run the cell above you can look at the extracted sentiment data as follows:\n",
    "\n",
    "# Uncomment the following line to run:\n",
    "\n",
    "# result.submissions_comments"
   ]
  },
  {
   "cell_type": "code",
   "execution_count": 6,
   "metadata": {
    "id": "YL-YINKGLZpa"
   },
   "outputs": [],
   "source": [
    "# You can save this data as an Excel spreadsheet as follows (uncomment to run):\n",
    "\n",
    "# result.submissions_comments.to_excel(\"sentiment_analysis.xlsx\", index=False)"
   ]
  },
  {
   "cell_type": "code",
   "execution_count": 7,
   "metadata": {
    "colab": {
     "base_uri": "https://localhost:8080/",
     "height": 542
    },
    "id": "D86m0w61IO7q",
    "outputId": "7339ee36-2f00-4f18-cb95-3c35355dc106"
   },
   "outputs": [],
   "source": [
    "# Plot your sentiment analysis\n",
    "\n",
    "# Uncomment the following line to run:\n",
    "\n",
    "# result.plot()"
   ]
  },
  {
   "cell_type": "code",
   "execution_count": 8,
   "metadata": {
    "colab": {
     "base_uri": "https://localhost:8080/",
     "height": 542
    },
    "id": "phhcM3tcOTNX",
    "outputId": "713f1996-c771-488c-92cb-97f6387a248c"
   },
   "outputs": [],
   "source": [
    "# You can highlight the comments of any marker (or multiple markers) as follows (uncomment to run):\n",
    "\n",
    "# result.plot(marker=[\"Treharne\", \"Mitchell\"], title=\"Sentiment analysis of feedback comments for LIFE223-202223 Essay Assignment\")"
   ]
  },
  {
   "cell_type": "code",
   "execution_count": 9,
   "metadata": {
    "id": "8g6WvJcxN272"
   },
   "outputs": [],
   "source": [
    "# One last thing: You can plot a bar chart showing the top 20 markers (or bottom 20) listed according to comment length.\n",
    "\n",
    "# Uncomment the following line to run:\n",
    "\n",
    "# result.comment_length_bar(ascending=True) # change to ascending=False if you want to see the bottom 20"
   ]
  }
 ],
 "metadata": {
  "colab": {
   "provenance": []
  },
  "kernelspec": {
   "display_name": "Python 3 (ipykernel)",
   "language": "python",
   "name": "python3"
  },
  "language_info": {
   "codemirror_mode": {
    "name": "ipython",
    "version": 3
   },
   "file_extension": ".py",
   "mimetype": "text/x-python",
   "name": "python",
   "nbconvert_exporter": "python",
   "pygments_lexer": "ipython3",
   "version": "3.10.6"
  }
 },
 "nbformat": 4,
 "nbformat_minor": 1
}