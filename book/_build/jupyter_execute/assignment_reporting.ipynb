{
 "cells": [
  {
   "cell_type": "markdown",
   "metadata": {},
   "source": [
    "# Course Assignment Reporting\n",
    "\n",
    "## Authors\n",
    "\n",
    "R. Treharne\n",
    "\n",
    "## Overview\n",
    "\n",
    "This notebook will allow a module organiser to generate a spreadsheet containing:\n",
    "\n",
    "+ A sheet for each SpeedGrader assignment containing all submission info and grades.\n",
    "+ A summary sheet for each SpeedGrader assignment containing the average score awarded by each unique marker.\n",
    "\n",
    "## Requirements\n",
    "\n",
    "If you are running this notebook using Google Colab then use the cell immediately below to install the `cavasapi` Python module."
   ]
  },
  {
   "cell_type": "code",
   "execution_count": null,
   "metadata": {
    "colab": {
     "base_uri": "https://localhost:8080/"
    },
    "id": "LTyOuzrTTvqc",
    "outputId": "d7cb2ba0-c64d-4e2b-bd6e-85c1c25712ee"
   },
   "outputs": [],
   "source": [
    "# Install canvasapi module if running this in Colab\n",
    "\n",
    "!pip install canvasapi"
   ]
  },
  {
   "cell_type": "markdown",
   "metadata": {},
   "source": [
    "## Usage\n",
    "\n",
    "Run the cells below in order and enter the required information when prompted."
   ]
  },
  {
   "cell_type": "code",
   "execution_count": null,
   "metadata": {
    "colab": {
     "base_uri": "https://localhost:8080/"
    },
    "id": "8mjAIBHnQIcX",
    "outputId": "dc520410-c943-4d11-9dec-198af5c7821f"
   },
   "outputs": [],
   "source": [
    "# Important. Run this cell.\n",
    "# Nothing will happen, but you will need to run this cell before running the next cell.\n",
    "\n",
    "# Requirements\n",
    "from canvasapi import Canvas\n",
    "import pandas as pd\n",
    "import getpass\n",
    "import datetime\n",
    "\n",
    "def make_clickable(val):\n",
    "    return f'<a target=\"_blank\" href=\"{val}\">{val}</a>'\n",
    "\n",
    "def get_assigment_submissions(canvas, course_id, assignment_id):\n",
    "  course = canvas.get_course(course_id)\n",
    "  assignment = course.get_assignment(assignment_id)\n",
    "  submissions = [x for x in assignment.get_submissions(include=[\"submission_comments\"])]\n",
    "  return submissions\n",
    "\n",
    "def get_user_by_id(canvas, user_id):\n",
    "  user = canvas.get_user(user_id)\n",
    "  return(user)\n",
    "\n",
    "def get_student_users_by_course(canvas, course_id):\n",
    "  course = canvas.get_course(course_id)\n",
    "\n",
    "  student_dict = {}\n",
    "  enrollments = [x for x in course.get_enrollments() if x.type == \"StudentEnrollment\"]\n",
    "  for e in enrollments:\n",
    "    student_dict[e.user_id] = {\n",
    "        \"login_id\": e.user[\"login_id\"],\n",
    "        \"sis_user_id\": e.user[\"sis_user_id\"],\n",
    "        \"sortable_name\": e.user[\"sortable_name\"]\n",
    "    }\n",
    "  return student_dict\n",
    "\n",
    "def generate_report(canvas, course_id, assignment_id, student_dict, submissions, user_group_map):\n",
    "\n",
    "  rows = []\n",
    "  for i, sub in enumerate(submissions):\n",
    "    try:\n",
    "\n",
    "      row = {\n",
    "          \"login_id\": student_dict[sub.user_id][\"login_id\"],\n",
    "          \"sis_user_id\": student_dict[sub.user_id][\"sis_user_id\"],\n",
    "          \"sortable_name\": student_dict[sub.user_id][\"sortable_name\"],\n",
    "          \"workflow_state\": sub.workflow_state,\n",
    "          \"score\": sub.score,\n",
    "          \"seconds_late\": sub.seconds_late,\n",
    "          \"academic_advisor\": user_group_map[sub.user_id],\n",
    "          \"url\": \"https://liverpool.instructure.com/courses/{0}/gradebook/speed_grader?assignment_id={1}&student_id={2}\".format(course_id, assignment_id, sub.user_id)\n",
    "      }\n",
    "      #row[\"url\"] = \"https://liverpool.instructure.com/courses/{0}/gradebook/speed_grader?assignment_id={1}&student_id={2}\".format(course_id, assignment_id, sub.user_id)\n",
    "      rows.append(row)\n",
    "\n",
    "    except:\n",
    "      continue\n",
    "  df = pd.DataFrame(rows)\n",
    "  return df\n",
    "\n",
    "def create_user_group_map(course):\n",
    "  user_group_dict = {}\n",
    "  groups = [x for x in course.get_groups()]\n",
    "  for group in groups:\n",
    "    for member in [x for x in group.get_memberships()]:\n",
    "      user_group_dict[member.user_id] = group.name\n",
    "  return user_group_dict\n",
    "\n",
    "def save_file(canvas, fname, assignments_dict):\n",
    "  with pd.ExcelWriter(fname) as writer:\n",
    "    for course_id in assignments_dict:\n",
    "      print(\"Getting user data for course {0}. This might take a while ...\".format(course_id))\n",
    "      student_dict = get_student_users_by_course(canvas, course_id)\n",
    "      course = canvas.get_course(course_id)\n",
    "      user_group_map = create_user_group_map(course)\n",
    "      assignments = assignments_dict[course_id][\"assignments\"]\n",
    "      for assignment in assignments:\n",
    "        print(course_id, assignment)\n",
    "        submissions = get_assigment_submissions(canvas, course_id, assignment[\"id\"])\n",
    "        df = generate_report(canvas, course_id, assignment[\"id\"], student_dict, submissions, user_group_map)\n",
    "        df = df.sort_values(by=[\"sortable_name\"])\n",
    "\n",
    "\n",
    "        df.loc[df[\"workflow_state\"]==\"submitted\", \"workflow_state\"] = \"ungraded\"\n",
    "        df.loc[(df[\"workflow_state\"]==\"graded\") & (df[\"score\"].isnull()), \"workflow_state\"] = \"EX\"\n",
    "\n",
    "\n",
    "        df.to_excel(writer, sheet_name=assignment[\"label\"], index=False)\n",
    "        df.style.format({'url': make_clickable})\n",
    "\n",
    "        summary = pd.DataFrame(df.groupby(by=[\"academic_advisor\"])[\"score\"].mean())\n",
    "        summary.to_excel(writer, sheet_name=\"{} - SuperSummary\".format(assignment[\"label\"][:11]), index=True)\n",
    "      print(\"Done. Saved to {0}\".format(fname))\n"
   ]
  },
  {
   "cell_type": "code",
   "execution_count": null,
   "metadata": {},
   "outputs": [],
   "source": [
    "API_URL = input(\"Enter your canvas URL (e.g. https://canvas.liverpool.ac.uk)\")\n",
    "API_KEY = getpass.getpass(\"Enter your Canvas API Key\")\n",
    "\n",
    "# create a canvas object\n",
    "canvas = Canvas(API_URL, API_KEY)\n",
    "\n",
    "datestamp = datetime.datetime.now().strftime(\"%Y%m%dT%H%M%S\")\n",
    "fname = \"{0}_assignment_report.xlsx\".format(datestamp) # Generate dynamic filename\n",
    "\n",
    "course_id = input(\"Input the Canvas course ID (e.g 69023\")\n",
    "\n",
    "print(\"Getting assignments ...\")\n",
    "assignments = [x for x in canvas.get_course(course_id).get_assignments()]\n",
    "\n",
    "assignment_filter = input(\"Enter a filter for the assignment name (e.g. LIFE223.), or leave blank to get all assignments: \")\n",
    "assignments_list = [{\"id\": a.id, \"label\": a.name[:30]} for a in assignments if assignment_filter in a.name and a.workflow_state != \"unpublished\" ]\n",
    "\n",
    "# create an input dictionary using course and assignment ids\n",
    "# {course_id: {\"assignments\": [{\"id\": assignment_id, \"label\": <label>}]}\n",
    "assignments_dict = {\n",
    "    course_id: {\"assignments\": assignments_list},\n",
    "}\n",
    "\n",
    "save_file(canvas, fname, assignments_dict)"
   ]
  },
  {
   "cell_type": "code",
   "execution_count": null,
   "metadata": {},
   "outputs": [],
   "source": []
  }
 ],
 "metadata": {
  "colab": {
   "provenance": []
  },
  "kernelspec": {
   "display_name": "Python 3",
   "name": "python3"
  },
  "language_info": {
   "codemirror_mode": {
    "name": "ipython",
    "version": 3
   },
   "file_extension": ".py",
   "mimetype": "text/x-python",
   "name": "python",
   "nbconvert_exporter": "python",
   "pygments_lexer": "ipython3",
   "version": "3.12.0"
  }
 },
 "nbformat": 4,
 "nbformat_minor": 0
}