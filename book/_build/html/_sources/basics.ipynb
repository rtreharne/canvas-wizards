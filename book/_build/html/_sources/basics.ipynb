{
 "cells": [
  {
   "cell_type": "markdown",
   "id": "2a4f81f4",
   "metadata": {},
   "source": [
    "# Basics\n",
    "\n",
    "In this section we'll cover:\n",
    "+ Enrollments\n",
    "+ Assignments\n",
    "+ Submissions\n",
    "\n",
    "Before we begin, create your `canvas` session variable again by running the cell below with `API_URL` AND `API_KEY` set to your own personal values."
   ]
  },
  {
   "cell_type": "code",
   "execution_count": 2,
   "id": "a81d0e43",
   "metadata": {},
   "outputs": [],
   "source": [
    "# Create your Canvas session\n",
    "from canvasapi import Canvas\n",
    "API_URL = \"https://canvas.liverpool.ac.uk\"\n",
    "API_KEY = \"15502~f4Ezll8DlucRLthAlSKTjFqNQeED6FfpId6mZnyS9wvHmYqMHXd8ZJj7AkIjy15K\"\n",
    "canvas = Canvas(API_URL, API_KEY)"
   ]
  },
  {
   "cell_type": "markdown",
   "id": "3ca74945",
   "metadata": {},
   "source": [
    "## Enrollments"
   ]
  },
  {
   "cell_type": "markdown",
   "id": "9118ed99",
   "metadata": {},
   "source": [
    "### Getting all enrollments on a course"
   ]
  },
  {
   "cell_type": "code",
   "execution_count": 3,
   "id": "776bbe13",
   "metadata": {},
   "outputs": [],
   "source": [
    "course_id = 0000 # REPLACE 0000 WITH YOUR COURSE ID\n",
    "course = canvas.get_course(course_id)"
   ]
  },
  {
   "cell_type": "markdown",
   "id": "d9ad5494",
   "metadata": {},
   "source": [
    "```{note}\n",
    "You can get the course id by going to any course homepage on Canvas and then looking at the last number in the URL string, e.g. for https://canvas.liverpool.ac.uk/courses/60371 the course id is 60371\n",
    "```"
   ]
  },
  {
   "cell_type": "code",
   "execution_count": null,
   "id": "3e460258",
   "metadata": {},
   "outputs": [],
   "source": [
    "course.__dict__"
   ]
  },
  {
   "cell_type": "code",
   "execution_count": 4,
   "id": "dc81aa81",
   "metadata": {},
   "outputs": [],
   "source": [
    "# You can also get a course based on the course_sis_id which is usually the course name as it appears\n",
    "# in the top left of the course homepage on Canvas. You need to use the additional parameter `use_sis_id` in \n",
    "# the `get_course` function, and make sure it's set to True\n",
    "\n",
    "course = canvas.get_course(\"<COURSE_SIS_ID>\", use_sis_id=True)"
   ]
  },
  {
   "cell_type": "code",
   "execution_count": 5,
   "id": "cd69b9ad",
   "metadata": {},
   "outputs": [],
   "source": [
    "# To get all the enrollments on a course\n",
    "enrollments = course.get_enrollments()"
   ]
  },
  {
   "cell_type": "markdown",
   "id": "ed03a4ef",
   "metadata": {},
   "source": [
    "The line above will successfully return all enrollments for a course and store them in the variable `enrollments`. However, all the information will stored in an object called a `PaginatedList` which isn't that useful when trying to do stuff in Python. For example, if you want to figure out how many enrollments there are you might try and use the `len()` function (very sensible), but for a `PaginatedList` you'd encounter a `TypeError`."
   ]
  },
  {
   "cell_type": "code",
   "execution_count": 6,
   "id": "b695be74",
   "metadata": {},
   "outputs": [
    {
     "ename": "TypeError",
     "evalue": "object of type 'PaginatedList' has no len()",
     "output_type": "error",
     "traceback": [
      "\u001b[0;31m---------------------------------------------------------------------------\u001b[0m",
      "\u001b[0;31mTypeError\u001b[0m                                 Traceback (most recent call last)",
      "Cell \u001b[0;32mIn [6], line 1\u001b[0m\n\u001b[0;32m----> 1\u001b[0m \u001b[38;5;28;43mlen\u001b[39;49m\u001b[43m(\u001b[49m\u001b[43menrollments\u001b[49m\u001b[43m)\u001b[49m\n",
      "\u001b[0;31mTypeError\u001b[0m: object of type 'PaginatedList' has no len()"
     ]
    }
   ],
   "source": [
    "len(enrollments)"
   ]
  },
  {
   "cell_type": "markdown",
   "id": "74f5fb99",
   "metadata": {},
   "source": [
    "To avoid `TypeErrors`, it is recommended that you retrieve list of things from canvas by using the relevant function, in this case `course.get_enrollments()`, within what is known as a \"list comprehension\" in Python. Without going into any futher detail, the code you need is as follows ..."
   ]
  },
  {
   "cell_type": "code",
   "execution_count": 7,
   "id": "877eed78",
   "metadata": {},
   "outputs": [],
   "source": [
    "enrollments = [x for x in course.get_enrollments()]"
   ]
  },
  {
   "cell_type": "code",
   "execution_count": 18,
   "id": "91735787",
   "metadata": {},
   "outputs": [
    {
     "data": {
      "text/plain": [
       "539"
      ]
     },
     "execution_count": 18,
     "metadata": {},
     "output_type": "execute_result"
    }
   ],
   "source": [
    "len(enrollments) # That's better!"
   ]
  },
  {
   "cell_type": "markdown",
   "id": "5573d010",
   "metadata": {},
   "source": [
    "Also, you can now slice your list of enrollments, e.g. to pick out a single enrollment from the list to look at it, by doing something like this ..."
   ]
  },
  {
   "cell_type": "code",
   "execution_count": 20,
   "id": "fea435a3",
   "metadata": {},
   "outputs": [
    {
     "data": {
      "text/plain": [
       "Enrollment(_requester=<canvasapi.requester.Requester object at 0x7f59dda0beb0>, id=3103371, user_id=115162, course_id=60371, type=ObserverEnrollment, created_at=2022-10-03T09:14:10Z, created_at_date=2022-10-03 09:14:10+00:00, updated_at=2022-10-03T09:14:10Z, updated_at_date=2022-10-03 09:14:10+00:00, associated_user_id=None, start_at=None, end_at=None, course_section_id=60911, root_account_id=1, limit_privileges_to_course_section=False, enrollment_state=active, role=ObserverEnrollment, role_id=7, last_activity_at=2022-12-03T20:31:40Z, last_activity_at_date=2022-12-03 20:31:40+00:00, last_attended_at=None, total_activity_time=743, sis_account_id=OX, sis_course_id=LIFE130-202223, course_integration_id=None, sis_section_id=None, section_integration_id=None, sis_user_id=201676425hlshu, html_url=https://canvas.liverpool.ac.uk/courses/60371/users/115162, user={'id': 115162, 'name': 'Senyi Hu', 'created_at': '2022-08-30T03:37:50+01:00', 'sortable_name': 'Hu, Senyi', 'short_name': 'Senyi Hu', 'sis_user_id': '201676425hlshu', 'integration_id': None, 'login_id': 'hlshu@liverpool.ac.uk'})"
      ]
     },
     "execution_count": 20,
     "metadata": {},
     "output_type": "execute_result"
    }
   ],
   "source": [
    "# Pick out the first enrollment from the list\n",
    "enrollments[0]"
   ]
  },
  {
   "cell_type": "markdown",
   "id": "c15d89c7",
   "metadata": {},
   "source": [
    "To make the data associated with the enrollment a bit more readable you can use the `__dict__` method."
   ]
  },
  {
   "cell_type": "code",
   "execution_count": 22,
   "id": "530701a1",
   "metadata": {},
   "outputs": [
    {
     "data": {
      "text/plain": [
       "{'_requester': <canvasapi.requester.Requester at 0x7f59dda0beb0>,\n",
       " 'id': 3103371,\n",
       " 'user_id': 115162,\n",
       " 'course_id': 60371,\n",
       " 'type': 'ObserverEnrollment',\n",
       " 'created_at': '2022-10-03T09:14:10Z',\n",
       " 'created_at_date': datetime.datetime(2022, 10, 3, 9, 14, 10, tzinfo=<UTC>),\n",
       " 'updated_at': '2022-10-03T09:14:10Z',\n",
       " 'updated_at_date': datetime.datetime(2022, 10, 3, 9, 14, 10, tzinfo=<UTC>),\n",
       " 'associated_user_id': None,\n",
       " 'start_at': None,\n",
       " 'end_at': None,\n",
       " 'course_section_id': 60911,\n",
       " 'root_account_id': 1,\n",
       " 'limit_privileges_to_course_section': False,\n",
       " 'enrollment_state': 'active',\n",
       " 'role': 'ObserverEnrollment',\n",
       " 'role_id': 7,\n",
       " 'last_activity_at': '2022-12-03T20:31:40Z',\n",
       " 'last_activity_at_date': datetime.datetime(2022, 12, 3, 20, 31, 40, tzinfo=<UTC>),\n",
       " 'last_attended_at': None,\n",
       " 'total_activity_time': 743,\n",
       " 'sis_account_id': 'OX',\n",
       " 'sis_course_id': 'LIFE130-202223',\n",
       " 'course_integration_id': None,\n",
       " 'sis_section_id': None,\n",
       " 'section_integration_id': None,\n",
       " 'sis_user_id': '201676425hlshu',\n",
       " 'html_url': 'https://canvas.liverpool.ac.uk/courses/60371/users/115162',\n",
       " 'user': {'id': 115162,\n",
       "  'name': 'Senyi Hu',\n",
       "  'created_at': '2022-08-30T03:37:50+01:00',\n",
       "  'sortable_name': 'Hu, Senyi',\n",
       "  'short_name': 'Senyi Hu',\n",
       "  'sis_user_id': '201676425hlshu',\n",
       "  'integration_id': None,\n",
       "  'login_id': 'hlshu@liverpool.ac.uk'}}"
      ]
     },
     "execution_count": 22,
     "metadata": {},
     "output_type": "execute_result"
    }
   ],
   "source": [
    "# Use .__dict__ to print out the dictionary map for the enrollment object. Beatuful!\n",
    "enrollments[0].__dict__"
   ]
  },
  {
   "cell_type": "markdown",
   "id": "a41c1876",
   "metadata": {},
   "source": [
    "You can access any \"key value\" associated with the enrollment object by using `.<key_name>` on any enrollment object. For example, to get the role associated with any enrollment:"
   ]
  },
  {
   "cell_type": "code",
   "execution_count": 24,
   "id": "2a0deafa",
   "metadata": {},
   "outputs": [
    {
     "data": {
      "text/plain": [
       "'ObserverEnrollment'"
      ]
     },
     "execution_count": 24,
     "metadata": {},
     "output_type": "execute_result"
    }
   ],
   "source": [
    "enrollments[0].role"
   ]
  },
  {
   "cell_type": "code",
   "execution_count": 26,
   "id": "fb525499",
   "metadata": {},
   "outputs": [
    {
     "data": {
      "text/plain": [
       "{'id': 115162,\n",
       " 'name': 'Senyi Hu',\n",
       " 'created_at': '2022-08-30T03:37:50+01:00',\n",
       " 'sortable_name': 'Hu, Senyi',\n",
       " 'short_name': 'Senyi Hu',\n",
       " 'sis_user_id': '201676425hlshu',\n",
       " 'integration_id': None,\n",
       " 'login_id': 'hlshu@liverpool.ac.uk'}"
      ]
     },
     "execution_count": 26,
     "metadata": {},
     "output_type": "execute_result"
    }
   ],
   "source": [
    "enrollments[0].__dict__[\"user\"]"
   ]
  },
  {
   "cell_type": "code",
   "execution_count": 27,
   "id": "0f5e06d8",
   "metadata": {},
   "outputs": [],
   "source": [
    "def get_enrollment_from_key_substring(enrollments, key, substring):\n",
    "    for e in enrollments:\n",
    "        if substring in e.__dict__[key]:\n",
    "            return e\n",
    "    print(\"User Not Found\")\n",
    "    return None          "
   ]
  },
  {
   "cell_type": "markdown",
   "id": "234990be",
   "metadata": {},
   "source": [
    "### Export course enrollments"
   ]
  },
  {
   "cell_type": "code",
   "execution_count": 12,
   "id": "d2f73ae8",
   "metadata": {},
   "outputs": [],
   "source": [
    "import pandas as pd\n",
    "\n",
    "rows = []\n",
    "for e in enrollments:\n",
    "    row = {\n",
    "        \"user_id\": e.user_id,\n",
    "        \"sortable_name\": e.user[\"sortable_name\"],\n",
    "        \"role\": e.role,\n",
    "        \"course_section_id\": e.course_section_id\n",
    "    }\n",
    "    rows.append(row)"
   ]
  },
  {
   "cell_type": "code",
   "execution_count": 14,
   "id": "6f5bb2a9",
   "metadata": {},
   "outputs": [],
   "source": [
    "enrollments_df = pd.DataFrame(rows, index=False)"
   ]
  },
  {
   "cell_type": "code",
   "execution_count": 15,
   "id": "f5b3ccf6",
   "metadata": {},
   "outputs": [
    {
     "data": {
      "text/html": [
       "<div>\n",
       "<style scoped>\n",
       "    .dataframe tbody tr th:only-of-type {\n",
       "        vertical-align: middle;\n",
       "    }\n",
       "\n",
       "    .dataframe tbody tr th {\n",
       "        vertical-align: top;\n",
       "    }\n",
       "\n",
       "    .dataframe thead th {\n",
       "        text-align: right;\n",
       "    }\n",
       "</style>\n",
       "<table border=\"1\" class=\"dataframe\">\n",
       "  <thead>\n",
       "    <tr style=\"text-align: right;\">\n",
       "      <th></th>\n",
       "      <th>user_id</th>\n",
       "      <th>sortable_name</th>\n",
       "      <th>role</th>\n",
       "      <th>course_section_id</th>\n",
       "    </tr>\n",
       "  </thead>\n",
       "  <tbody>\n",
       "    <tr>\n",
       "      <th>0</th>\n",
       "      <td>115162</td>\n",
       "      <td>Hu, Senyi</td>\n",
       "      <td>ObserverEnrollment</td>\n",
       "      <td>60911</td>\n",
       "    </tr>\n",
       "    <tr>\n",
       "      <th>1</th>\n",
       "      <td>108783</td>\n",
       "      <td>-, Sneh</td>\n",
       "      <td>StudentEnrollment</td>\n",
       "      <td>60911</td>\n",
       "    </tr>\n",
       "    <tr>\n",
       "      <th>2</th>\n",
       "      <td>106580</td>\n",
       "      <td>Abyanova, Aliya</td>\n",
       "      <td>StudentEnrollment</td>\n",
       "      <td>60911</td>\n",
       "    </tr>\n",
       "    <tr>\n",
       "      <th>3</th>\n",
       "      <td>105831</td>\n",
       "      <td>Adegoke, Nat</td>\n",
       "      <td>StudentEnrollment</td>\n",
       "      <td>60911</td>\n",
       "    </tr>\n",
       "    <tr>\n",
       "      <th>4</th>\n",
       "      <td>112517</td>\n",
       "      <td>Aghazadeh, Mehrnaz</td>\n",
       "      <td>StudentEnrollment</td>\n",
       "      <td>60911</td>\n",
       "    </tr>\n",
       "  </tbody>\n",
       "</table>\n",
       "</div>"
      ],
      "text/plain": [
       "   user_id       sortable_name                role  course_section_id\n",
       "0   115162           Hu, Senyi  ObserverEnrollment              60911\n",
       "1   108783             -, Sneh   StudentEnrollment              60911\n",
       "2   106580     Abyanova, Aliya   StudentEnrollment              60911\n",
       "3   105831        Adegoke, Nat   StudentEnrollment              60911\n",
       "4   112517  Aghazadeh, Mehrnaz   StudentEnrollment              60911"
      ]
     },
     "execution_count": 15,
     "metadata": {},
     "output_type": "execute_result"
    }
   ],
   "source": [
    "enrollments_df.head()"
   ]
  },
  {
   "cell_type": "code",
   "execution_count": 16,
   "id": "ae6ce0c6",
   "metadata": {},
   "outputs": [],
   "source": [
    "enrollments_df.to_excel(\"course_enrollments.xlsx\")"
   ]
  },
  {
   "cell_type": "markdown",
   "id": "d6cca6b1",
   "metadata": {},
   "source": [
    "## Assignments"
   ]
  },
  {
   "cell_type": "markdown",
   "id": "96869da5",
   "metadata": {},
   "source": [
    "## Submissions"
   ]
  },
  {
   "cell_type": "code",
   "execution_count": null,
   "id": "1757270a",
   "metadata": {},
   "outputs": [],
   "source": []
  }
 ],
 "metadata": {
  "kernelspec": {
   "display_name": "Python 3 (ipykernel)",
   "language": "python",
   "name": "python3"
  },
  "language_info": {
   "codemirror_mode": {
    "name": "ipython",
    "version": 3
   },
   "file_extension": ".py",
   "mimetype": "text/x-python",
   "name": "python",
   "nbconvert_exporter": "python",
   "pygments_lexer": "ipython3",
   "version": "3.10.6"
  }
 },
 "nbformat": 4,
 "nbformat_minor": 5
}
