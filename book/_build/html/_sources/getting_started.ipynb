{
 "cells": [
  {
   "cell_type": "markdown",
   "id": "7f02c806",
   "metadata": {},
   "source": [
    "# Getting Started\n",
    "\n",
    "## What is an API?\n",
    "\n",
    "An **application programming interface** (API) is a set of stored functions or procedures that allow you get, create or edit data from an application without having to use a graphical interface (e.g. a website). The Canvas API will allow you to do almost anything that you currently do using the standard user interface. \n",
    "\n",
    "The Canvas API is extremely well documented and, while the documentation may seem impenetrable at first, reading the docs can solve most problems. Check it out at <a href=\"https://canvas.instructure.com/doc/api/\" target=\"_blank\">https://canvas.instructure.com/doc/api/</a>.\n",
    "\n",
    "*\"So what?\"* - I hear you say. Well, the power of the API lies with the ability to prepare snippets of code (we're going to use **Python** here) to make use of the API's functions in order to automate repetitive tasks and cut your workload dramatically.\n",
    "\n",
    "*\"OMG, I have to write code?\"*. Well, yes. Get over it. It's really not that bad and this book is going to guide you all the way. Deep breath now, let's dive in."
   ]
  },
  {
   "cell_type": "markdown",
   "id": "fc865f61",
   "metadata": {},
   "source": [
    "## Setup and Configuration\n",
    "\n",
    "There are about a **zillion** different ways that you could create a coding environment in which you can begin your tranformation to Canvas wizard. The best way for you get started will be to click the little *rocket icon* at the top of this page and then click the *Binder* button. You might have to wait a couple of minutes while the environment is created but once it's ready you'll be good to go without having to download or install a single thing. Wizard!\n",
    "\n",
    "Or, you can click the *Colab* button and open a notebook using the Google Colab platform for online notebooks. You will also need use the \"Copy to Drive\" button to run the code on the page - this will require you to login using a Google account.\n",
    "\n",
    "If you're hardcore you can click the download button in the top-right and download the .ipynb for each section and run it on your local machine using **Jupyter Notebook**. For advice on how to install Jupyter Notebook checkout <a href=\"https://www.geeksforgeeks.org/how-to-install-jupyter-notebook-in-windows/\" target=\"_blank\">this article</a>.\n",
    "\n",
    "```{note}\n",
    "If you're new to all of this then the Binder option above is strongly recommended. \n",
    "```"
   ]
  },
  {
   "cell_type": "markdown",
   "id": "71b5cb27",
   "metadata": {},
   "source": [
    "## Ready for a Test Drive\n",
    "\n",
    "OK. I think you're ready to try a few lines of code yourself. Let's start simple. How about trying to get a list of all the Canvas courses you're currently enrolled on? This is pretty easy.\n",
    "\n",
    "First, ensure that you've imported the canvasapi module for Python by running the following cell:"
   ]
  },
  {
   "cell_type": "code",
   "execution_count": null,
   "id": "900b9c6a",
   "metadata": {},
   "outputs": [],
   "source": [
    "from canvasapi import Canvas"
   ]
  },
  {
   "cell_type": "markdown",
   "id": "6ba97d22",
   "metadata": {},
   "source": [
    "```{note}\n",
    "If you're using Colab or Jupyter Notebook you'll need to install the canvasapi first using the following command: ```"
   ]
  },
  {
   "cell_type": "code",
   "execution_count": null,
   "id": "9e03729b",
   "metadata": {},
   "outputs": [],
   "source": [
    "!pip install canvasapi"
   ]
  },
  {
   "cell_type": "markdown",
   "id": "6adaaa3d",
   "metadata": {},
   "source": [
    "Now create an `API_URL` variable and set it to the URL of your institutions Canvas homepage, e.g. \"https://canvas.liverpool.ac.uk\". Make sure that the URL has quotation marks either side of it (i.e. define it as a string variable!)."
   ]
  },
  {
   "cell_type": "code",
   "execution_count": null,
   "id": "9d10374b",
   "metadata": {},
   "outputs": [],
   "source": [
    "API_URL = \"<YOUR_CANVAS_URL>\""
   ]
  },
  {
   "cell_type": "markdown",
   "id": "2e0557c2",
   "metadata": {},
   "source": [
    "You now need to define an `API_KEY` variable. Your API Key (or token as their called in canvas). To get your API key follow <a href=\"https://community.canvaslms.com/t5/Admin-Guide/How-do-I-manage-API-access-tokens-as-an-admin/ta-p/89\" target=\"_blank\">this guide</a>."
   ]
  },
  {
   "cell_type": "code",
   "execution_count": null,
   "id": "d0d95bad",
   "metadata": {},
   "outputs": [],
   "source": [
    "API_KEY = \"<YOUR_API_KEY>\""
   ]
  },
  {
   "cell_type": "markdown",
   "id": "f728b1d1",
   "metadata": {},
   "source": [
    "Lastly, you need to create a Canvas session and store it in a variable:"
   ]
  },
  {
   "cell_type": "code",
   "execution_count": null,
   "id": "603ec54f",
   "metadata": {},
   "outputs": [],
   "source": [
    "canvas = Canvas(API_URL, API_KEY)"
   ]
  },
  {
   "cell_type": "markdown",
   "id": "dc965122",
   "metadata": {},
   "source": [
    "OK. Done! Now to get a list of all the courses that you're currently enrolled on run the following lines ..."
   ]
  },
  {
   "cell_type": "code",
   "execution_count": null,
   "id": "174b6499",
   "metadata": {},
   "outputs": [],
   "source": [
    "user = canvas.get_user(101) # Replace the value 101 with you own user ID\n",
    "\n",
    "courses = user.get_courses() # Get the user's courses\n",
    "\n",
    "# Print out all the courses you've ever been enrolled on in Canvas!\n",
    "for course in courses:\n",
    "    print(course.name)"
   ]
  },
  {
   "cell_type": "markdown",
   "id": "3b4a5879",
   "metadata": {},
   "source": [
    "Fantastic! This list will contain ALL canvas courses that you've ever been enrolled on. You may wish to filter this according to some substring in the course's title, e.g. you can use the following code to make sure you're only picking out courses that have \"LIFE\" and \"202223\" in the course titles:"
   ]
  },
  {
   "cell_type": "code",
   "execution_count": null,
   "id": "383a51be",
   "metadata": {},
   "outputs": [],
   "source": [
    "courses = [x for x in user.get_courses() if all(y in x.name for y in [\"LIFE\", \"202223\"])]"
   ]
  },
  {
   "cell_type": "markdown",
   "id": "0b767421",
   "metadata": {},
   "source": [
    "```{note}\n",
    "What's my Canvas user id? You can find this out by searching for own name in the \"People\" section of any of your Canvas courses. If you scroll over your username or photo you should see a URL pop up that looks something like this: \"https://canvas.liverpool.ac.uk/courses/58338/users/101\". The number at the very end of the URL is your user id.\n",
    "```"
   ]
  },
  {
   "cell_type": "markdown",
   "id": "f99e86d6",
   "metadata": {},
   "source": [
    "If you've successfully run the lines of code above then you're now ready to become a Canvas Admin Wizard! Get ready to cover the basics."
   ]
  }
 ],
 "metadata": {
  "kernelspec": {
   "display_name": "Python 3 (ipykernel)",
   "language": "python",
   "name": "python3"
  },
  "language_info": {
   "codemirror_mode": {
    "name": "ipython",
    "version": 3
   },
   "file_extension": ".py",
   "mimetype": "text/x-python",
   "name": "python",
   "nbconvert_exporter": "python",
   "pygments_lexer": "ipython3",
   "version": "3.10.6"
  }
 },
 "nbformat": 4,
 "nbformat_minor": 5
}
