{
 "cells": [
  {
   "cell_type": "markdown",
   "metadata": {},
   "source": [
    "# Basics\n",
    "\n",
    "As a Canvas Admin Wizard there are three key areas that your tasks are likely to fall into:\n",
    "\n",
    "\n",
    "+ Enrollments\n",
    "+ Assignments\n",
    "+ Submissions\n",
    "\n",
    "Before we begin, create your `canvas` session variable again by running the cell below with `API_URL` AND `API_KEY` set to your own personal values."
   ]
  },
  {
   "cell_type": "code",
   "execution_count": null,
   "metadata": {},
   "outputs": [],
   "source": [
    "# Create your Canvas session\n",
    "\n",
    "from canvasapi import Canvas\n",
    "\n",
    "API_URL = \"\" # e.g. \"https://liverpool.instructure.com\"\n",
    "API_KEY = \"\"\n",
    "\n",
    "API_URL = \"https://canvas.liverpool.ac.uk\"\n",
    "API_KEY = \"15502~DqhNjK9tqamH68fsXvkoPkvH3Jgk5Tu5Uf5p4MFiCjoiUKGJBeqR7vgFs3yOj9Oe\"\n",
    "\n",
    "canvas = Canvas(API_URL, API_KEY)"
   ]
  },
  {
   "cell_type": "markdown",
   "metadata": {},
   "source": [
    "## Enrollments"
   ]
  },
  {
   "cell_type": "markdown",
   "metadata": {},
   "source": [
    "### Getting all enrollments on a course\n",
    "\n",
    "In most cases when performing your Canvas wizardry, you'll need to start by getting a single course. Replace set the `course_id` variable in the cell below with the course id corresponding to a Canvas course that you are enrolled on as a teacher."
   ]
  },
  {
   "cell_type": "markdown",
   "metadata": {},
   "source": [
    "```{note}\n",
    "If you don't know a course's id, you can get it by going to the course's homepage on Canvas and then looking at the last number in the URL string, e.g. for https://canvas.liverpool.ac.uk/courses/60371 the course id is 60371.\n",
    "```"
   ]
  },
  {
   "cell_type": "code",
   "execution_count": null,
   "metadata": {},
   "outputs": [],
   "source": [
    "course_id = 61073 # REPLACE 61073 WITH YOUR COURSE ID - I'm just giving an example here.\n",
    "course = canvas.get_course(course_id)"
   ]
  },
  {
   "cell_type": "markdown",
   "metadata": {},
   "source": [
    "To view all of the settings for the course use the `__dict__` method:"
   ]
  },
  {
   "cell_type": "code",
   "execution_count": null,
   "metadata": {},
   "outputs": [],
   "source": [
    "course.__dict__"
   ]
  },
  {
   "cell_type": "markdown",
   "metadata": {},
   "source": [
    "If you want, you can also get a course based on the course_code which is usually the course name as it appears in the top left of the course homepage on Canvas. You will need to use the additional parameter `use_sis_id` in the `get_course()` function, and make sure it's set to a value of `True`."
   ]
  },
  {
   "cell_type": "code",
   "execution_count": 91,
   "metadata": {},
   "outputs": [],
   "source": [
    "# Getting a course with its course_code instead of the id\n",
    "# LIFE733-202223 is used as an example here. User your own course_code!\n",
    "\n",
    "course = canvas.get_course(\"LIFE733-202223\", use_sis_id=True)"
   ]
  },
  {
   "cell_type": "markdown",
   "metadata": {},
   "source": [
    "Use the `get_enrollments()` function to get all the enrollments associated with the course."
   ]
  },
  {
   "cell_type": "code",
   "execution_count": null,
   "metadata": {},
   "outputs": [],
   "source": [
    "# To get all the enrollments on a course\n",
    "enrollments = course.get_enrollments()"
   ]
  },
  {
   "cell_type": "markdown",
   "metadata": {},
   "source": [
    "The line above will successfully return all enrollments for a course and store them in the variable `enrollments`. However, all the information will stored in an object called a `PaginatedList` which isn't that useful when trying to do stuff in Python. For example, if you want to figure out how many enrollments there are you might try and use the `len()` function (very sensible), but for a `PaginatedList` you'd encounter a `TypeError`."
   ]
  },
  {
   "cell_type": "code",
   "execution_count": null,
   "metadata": {},
   "outputs": [],
   "source": [
    "len(enrollments)"
   ]
  },
  {
   "cell_type": "markdown",
   "metadata": {},
   "source": [
    "To avoid `TypeErrors`, it is recommended that you retrieve list of things from canvas by using the relevant function, in this case `course.get_enrollments()`, within what is known as a \"list comprehension\" in Python. Without going into any futher detail, the code you need is as follows ..."
   ]
  },
  {
   "cell_type": "code",
   "execution_count": null,
   "metadata": {},
   "outputs": [],
   "source": [
    "enrollments = [x for x in course.get_enrollments()]"
   ]
  },
  {
   "cell_type": "markdown",
   "metadata": {},
   "source": [
    "```{note}\n",
    "This slightly more complicated way of obtaining a list of things from Canvas is better in the long run. You'll see it used a lot when I'm getting enrollments, assignments and submissions.\n",
    "```"
   ]
  },
  {
   "cell_type": "code",
   "execution_count": null,
   "metadata": {},
   "outputs": [],
   "source": [
    "len(enrollments) # That's better! I can see there are 68 enrollments on this course."
   ]
  },
  {
   "cell_type": "markdown",
   "metadata": {},
   "source": [
    "Also, you can now slice your list of enrollments, e.g. to pick out a single enrollment from the list to look at it, by doing something like this ..."
   ]
  },
  {
   "cell_type": "code",
   "execution_count": null,
   "metadata": {},
   "outputs": [],
   "source": [
    "# Example: Pick out the 65th enrollment from a list of enrollments.\n",
    "enrollments[65]"
   ]
  },
  {
   "cell_type": "markdown",
   "metadata": {},
   "source": [
    "To make the data associated with the enrollment a bit more readable you can use the `__dict__` method."
   ]
  },
  {
   "cell_type": "code",
   "execution_count": null,
   "metadata": {},
   "outputs": [],
   "source": [
    "# Use .__dict__ to print out the dictionary map for the enrollment object. Beatuful!\n",
    "enrollments[65].__dict__"
   ]
  },
  {
   "cell_type": "markdown",
   "metadata": {},
   "source": [
    "You can access any \"key value\" associated with the enrollment object by using `.<key_name>` on any enrollment object. For example, to get the role associated the object above:"
   ]
  },
  {
   "cell_type": "code",
   "execution_count": null,
   "metadata": {},
   "outputs": [],
   "source": [
    "# Get the role associated with my enrollment\n",
    "enrollments[65].role"
   ]
  },
  {
   "cell_type": "markdown",
   "metadata": {},
   "source": [
    "Sometimes, you just want to get the enrollments associated with a particular role, e.g. ``StudentEnrolment``. To do this you can filter accordingly using the following line."
   ]
  },
  {
   "cell_type": "code",
   "execution_count": null,
   "metadata": {},
   "outputs": [],
   "source": [
    "student_enrollments = [x for x in course.get_enrollments() if x.role == \"StudentEnrollment\"]"
   ]
  },
  {
   "cell_type": "markdown",
   "metadata": {},
   "source": [
    "### Export course enrollments\n",
    "\n",
    "Sometimes, it's really useful to get export all of the enrollments on a Canvas course to an Excel spreadsheet. This might be required, for example, if you wanted to manually allocate students to particular groups in Canvas and wanted to prepare a batch spreadsheet with a \"Group Name\" column.\n",
    "\n",
    "How do we do this? We do it with [Pandas](https://pandas.pydata.org/)!\n",
    "\n",
    "Run the cell below to create a Pandas data frame containing your enrollment data."
   ]
  },
  {
   "cell_type": "code",
   "execution_count": null,
   "metadata": {},
   "outputs": [],
   "source": [
    "# The pandas module is fantastic for reading/creating spreadsheets from data in Python\n",
    "import pandas as pd\n",
    "\n",
    "rows = [] #create an empty list to store your row data\n",
    "\n",
    "# Loop over all your student enrollments\n",
    "for e in student_enrollments:\n",
    "    # Create a dictionary containing useful info from each enrollment\n",
    "    row = {\n",
    "        \"user_id\": e.user_id,\n",
    "        \"sortable_name\": e.user[\"sortable_name\"],\n",
    "        \"role\": e.role,\n",
    "        \"course_section_id\": e.course_section_id\n",
    "    }\n",
    "    rows.append(row) # add the dictionary to the rows list.\n",
    "\n",
    "output = pd.DataFrame(rows) # Convert your rows into a Pandas dataframe"
   ]
  },
  {
   "cell_type": "markdown",
   "metadata": {},
   "source": [
    "You can view the first 5 rows of your data frame using the following command."
   ]
  },
  {
   "cell_type": "code",
   "execution_count": null,
   "metadata": {},
   "outputs": [],
   "source": [
    "# check it out!\n",
    "output.head()"
   ]
  },
  {
   "cell_type": "markdown",
   "metadata": {},
   "source": [
    "Finally, lets save the data frame to something we all know and love - the humble Excel spreadsheet."
   ]
  },
  {
   "cell_type": "code",
   "execution_count": null,
   "metadata": {},
   "outputs": [],
   "source": [
    "# Save the output to an Excel spreadsheet\n",
    "output.to_excel(\"course_enrollments.xlsx\", index=False)"
   ]
  },
  {
   "cell_type": "markdown",
   "metadata": {},
   "source": [
    "```{note}\n",
    "If you're running a Binder instance of this chapter then click File --> Open, tick the checkbox next to the \"course_enrollments.xlsx\" file and then hit the Download button to get a copy of your saved spreadsheet.\n",
    "\n",
    "Similarly, if you're using Collab, click the files icon in the left toolbar, find your file and click the elipsis next to the filename to download the file.\n",
    "```"
   ]
  },
  {
   "cell_type": "markdown",
   "metadata": {},
   "source": [
    "### Enrolling Users\n",
    "\n",
    "Enrolling users onto a Canvas course using the LMS interface is somewhat clunky. You have to type in the `login_id` (usually an email) of each user manually one-by-one and click a few more buttons. If you need to add many users (sometimes hundreds) to a new course it might be easier to use some more wizadry."
   ]
  },
  {
   "cell_type": "markdown",
   "metadata": {},
   "source": [
    "```{note}\n",
    "When enrolling users to a Canvas course using the LMS an unavoidable invite notification will be sent via email to the user. You can, however, prevent this behaviour using the API.\n",
    "```"
   ]
  },
  {
   "cell_type": "markdown",
   "metadata": {},
   "source": [
    "Below is an example of how to enroll a new user (in this case me! - my id is a very Orwellian 101) as a Teacher on a course. The `enrollment` dictionary contains information on the `enrollment_state` of the user. By setting it to `active` we can avoid sending the user any notification of their enrollment which is sometimes preferable."
   ]
  },
  {
   "cell_type": "code",
   "execution_count": null,
   "metadata": {},
   "outputs": [],
   "source": [
    "# Teacher Enrollment example\n",
    "\n",
    "course.enroll_user(user=101, #the id of the user\n",
    "                   enrollment_type=\"TeacherEnrollment\", # use \"StudentEnrollment\" if you want to enrols as student.\n",
    "                   enrollment={\n",
    "                       \"enrollment_state\": \"active\" # important! Otherwise use will receive notification.\n",
    "                   }\n",
    "                  )"
   ]
  },
  {
   "cell_type": "markdown",
   "metadata": {},
   "source": [
    "And hey presto! The user is enrolled. If you navigate to the \"People\" section of the course via the LMS you should now be able to see the enrollment.\n",
    "\n",
    "Very often it is necessary to take all the enrollments from one course and replicated them on another. Remember that `course_enrollments.xlsx` spreadsheet that you created above. Let's use this to enrol all of the students on another course."
   ]
  },
  {
   "cell_type": "code",
   "execution_count": 92,
   "metadata": {},
   "outputs": [],
   "source": [
    "# Read the spreadsheet to a variable called `user_sheet`\n",
    "user_sheet = pd.read_excel(\"course_enrollments.xlsx\")"
   ]
  },
  {
   "cell_type": "code",
   "execution_count": null,
   "metadata": {},
   "outputs": [],
   "source": [
    "# enroll them on another course\n",
    "# 53523\n",
    "test_course = canvas.get_course(53523)\n",
    "\n",
    "for i, row in user_sheet.iterrows():\n",
    "    print(\"Enrolling user: \", row.user_id)\n",
    "    test_course.enroll_user(user=row.user_id, \n",
    "                   enrollment_type=row.role,\n",
    "                   enrollment={\n",
    "                       \"enrollment_state\": \"active\" # important! Otherwise use will receive notification.\n",
    "                   }\n",
    "                  )\n"
   ]
  },
  {
   "cell_type": "markdown",
   "metadata": {},
   "source": [
    "### Deleting Users"
   ]
  },
  {
   "cell_type": "code",
   "execution_count": null,
   "metadata": {},
   "outputs": [],
   "source": [
    "enrollments = [x for x in test_course.get_enrollments() if x.type==\"StudentEnrollment\" and \"Treharne\" not in x.user[\"name\"]]"
   ]
  },
  {
   "cell_type": "code",
   "execution_count": null,
   "metadata": {},
   "outputs": [],
   "source": [
    "for i, e in enumerate(enrollments):\n",
    "    print(i, e.id, e.user[\"sortable_name\"])"
   ]
  },
  {
   "cell_type": "code",
   "execution_count": null,
   "metadata": {},
   "outputs": [],
   "source": [
    "enrollments[0].deactivate(task=\"delete\")"
   ]
  },
  {
   "cell_type": "code",
   "execution_count": null,
   "metadata": {},
   "outputs": [],
   "source": [
    "# Remove ALL students from a course\n",
    "for e in enrollments:\n",
    "    e.deactivate(task=\"delete\")"
   ]
  },
  {
   "cell_type": "markdown",
   "metadata": {},
   "source": [
    "## Assignments\n",
    "\n",
    "TODO:\n",
    "\n",
    "+ Getting Assignments\n",
    "+ Editing Existing Assignments\n",
    "+ Creating New assignments\n",
    "+ Duplicating assignments"
   ]
  },
  {
   "cell_type": "code",
   "execution_count": null,
   "metadata": {},
   "outputs": [],
   "source": [
    "### Getting Assignments\n",
    "\n"
   ]
  },
  {
   "cell_type": "code",
   "execution_count": null,
   "metadata": {},
   "outputs": [],
   "source": [
    "from canvasapi import Canvas\n",
    "\n",
    "canvas = Canvas(\"https://canvas.liverpool.ac.uk\", \"15502~DqhNjK9tqamH68fsXvkoPkvH3Jgk5Tu5Uf5p4MFiCjoiUKGJBeqR7vgFs3yOj9Oe\")"
   ]
  },
  {
   "cell_type": "code",
   "execution_count": null,
   "metadata": {},
   "outputs": [],
   "source": [
    "# first get the course\n",
    "course = canvas.get_course(53523) # 53523 is the id of my personal test course\n",
    "\n",
    "# then get the assignment\n",
    "assignment = course.get_assignment(224200) # 224200 is the assignment id. Get it from the assignment url. "
   ]
  },
  {
   "cell_type": "code",
   "execution_count": null,
   "metadata": {},
   "outputs": [],
   "source": [
    "# inspect the assignment object\n",
    "assignment.__dict__"
   ]
  },
  {
   "cell_type": "code",
   "execution_count": null,
   "metadata": {},
   "outputs": [],
   "source": [
    "# get all course assignments\n",
    "assignments = [x for x in course.get_assignments()]"
   ]
  },
  {
   "cell_type": "code",
   "execution_count": null,
   "metadata": {},
   "outputs": [],
   "source": [
    "for a in assignments:\n",
    "    print(a)"
   ]
  },
  {
   "cell_type": "code",
   "execution_count": null,
   "metadata": {},
   "outputs": [],
   "source": [
    "# filter assignments based on key value\n",
    "assignments = [x for x in course.get_assignments() if x.due_at == \"2023-01-09T12:00:00Z\"]"
   ]
  },
  {
   "cell_type": "code",
   "execution_count": null,
   "metadata": {},
   "outputs": [],
   "source": [
    "assignments = [x for x in course.get_assignments() if \"test\" in x.name.lower()]"
   ]
  },
  {
   "cell_type": "markdown",
   "metadata": {},
   "source": [
    "### Edit Assignments"
   ]
  },
  {
   "cell_type": "code",
   "execution_count": null,
   "metadata": {},
   "outputs": [],
   "source": [
    "a = assignments[0] # from above\n",
    "\n",
    "assignment_update_info = {\n",
    "    \"description\": \"Important information about this assignment\",\n",
    "    \"due_at\": \"2023-01-09T16:00:00Z\", # important to get the format correct\n",
    "    \"name\": \"Awesome Assignment\",\n",
    "    \"published\": False\n",
    "}\n",
    "\n",
    "a = a.edit(assignment=assignment_update_info)"
   ]
  },
  {
   "cell_type": "markdown",
   "metadata": {},
   "source": [
    "### Duplicate Assignments"
   ]
  },
  {
   "cell_type": "code",
   "execution_count": null,
   "metadata": {},
   "outputs": [],
   "source": [
    "import requests\n",
    "\n",
    "def duplicate_assignment(course_id, assignment_id):\n",
    "    \"\"\"\n",
    "    This function takes an assignment and makes an identical duplicate.\n",
    "    You will make sure your API_URL and API_KEY variables are set\n",
    "    before using this function. Also, import the requests module.\n",
    "    \"\"\"\n",
    "    \n",
    "    # set the url endpoint\n",
    "    url = f'{API_URL}/api/v1/courses/{course_id}/assignments/{assignment_id}/duplicate'\n",
    "    \n",
    "    # set the request header for authentication\n",
    "    header = {'Authorization': 'Bearer {}'.format(API_KEY)}\n",
    "    \n",
    "    # make the request\n",
    "    r = requests.post(url, headers=header)\n",
    "    \n",
    "    # get the new assignment\n",
    "    assignment = canvas.get_course(course_id).get_assignment(r.json()[\"id\"])\n",
    "    \n",
    "    return assignment"
   ]
  },
  {
   "cell_type": "code",
   "execution_count": null,
   "metadata": {},
   "outputs": [],
   "source": [
    "# Running this cell will copy your assignment from above. Check this in Canvas\n",
    "new_assignment = duplicate_assignment(course.id, a.id)"
   ]
  },
  {
   "cell_type": "code",
   "execution_count": null,
   "metadata": {},
   "outputs": [],
   "source": [
    "new_assignment.name"
   ]
  },
  {
   "cell_type": "code",
   "execution_count": null,
   "metadata": {},
   "outputs": [],
   "source": [
    "new_assignment = new_assignment.edit(\n",
    "    assignment={\n",
    "        \"name\": \"Another Awesome Assignment\",\n",
    "        \"published\": True,\n",
    "        \"due_at\": \"2023-01-10T12:00:00Z\"\n",
    "    }\n",
    ")"
   ]
  },
  {
   "cell_type": "code",
   "execution_count": null,
   "metadata": {},
   "outputs": [],
   "source": [
    "for i in range(1,6):\n",
    "    new_assignment = duplicate_assignment(course.id, a.id)\n",
    "    new_assignment.edit(\n",
    "        assignment={\n",
    "            \"name\": \"Assignment {}\".format(str(i)),\n",
    "            \"published\": True,\n",
    "            \"position\": i+1 # This will make sure they appear in the correct order\n",
    "        }\n",
    "    )"
   ]
  },
  {
   "cell_type": "markdown",
   "metadata": {},
   "source": [
    "### Importing Assignments"
   ]
  },
  {
   "cell_type": "code",
   "execution_count": null,
   "metadata": {},
   "outputs": [],
   "source": [
    "def import_assignment(from_course_id, to_course_id, assignment_id):\n",
    "    settings = {\n",
    "        \"source_course_id\": from_course_id,\n",
    "        \"selective_import\": True,\n",
    "      }\n",
    "\n",
    "    select = {\n",
    "        \"assignments\": [assignment_id]\n",
    "    }\n",
    "\n",
    "    canvas.get_course(to_course_id).create_content_migration(migration_type=\"course_copy_importer\", settings=settings, select=select)"
   ]
  },
  {
   "cell_type": "code",
   "execution_count": null,
   "metadata": {},
   "outputs": [],
   "source": [
    "# https://canvas.liverpool.ac.uk/courses/58338/assignments/201149\n",
    "import_assignment(58338, course.id, 201149)"
   ]
  },
  {
   "cell_type": "markdown",
   "metadata": {},
   "source": [
    "You can import anything!\n",
    "\n",
    "https://canvas.instructure.com/doc/api/content_migrations.html#method.content_migrations.create"
   ]
  },
  {
   "cell_type": "markdown",
   "metadata": {},
   "source": [
    "## Submissions"
   ]
  },
  {
   "cell_type": "code",
   "execution_count": null,
   "metadata": {},
   "outputs": [],
   "source": []
  }
 ],
 "metadata": {
  "kernelspec": {
   "display_name": "Python 3",
   "language": "python",
   "name": "python3"
  },
  "language_info": {
   "codemirror_mode": {
    "name": "ipython",
    "version": 3
   },
   "file_extension": ".py",
   "mimetype": "text/x-python",
   "name": "python",
   "nbconvert_exporter": "python",
   "pygments_lexer": "ipython3",
   "version": "3.8.5"
  }
 },
 "nbformat": 4,
 "nbformat_minor": 5
}
