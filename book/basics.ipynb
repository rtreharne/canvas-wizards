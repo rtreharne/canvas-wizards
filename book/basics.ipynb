{
 "cells": [
  {
   "cell_type": "markdown",
   "metadata": {},
   "source": [
    "# Basics\n",
    "\n",
    "In this section we'll cover:\n",
    "+ Enrollments\n",
    "+ Assignments\n",
    "+ Submissions\n",
    "\n",
    "Before we begin, create your `canvas` session variable again by running the cell below with `API_URL` AND `API_KEY` set to your own personal values."
   ]
  },
  {
   "cell_type": "code",
   "execution_count": null,
   "metadata": {},
   "outputs": [],
   "source": [
    "# Create your Canvas session\n",
    "\n",
    "from canvasapi import Canvas\n",
    "API_URL = \"\" # e.g. \"https://liverpool.instructure.com\"\n",
    "API_KEY = \"\"\n",
    "canvas = Canvas(API_URL, API_KEY)"
   ]
  },
  {
   "cell_type": "markdown",
   "metadata": {},
   "source": [
    "## Enrollments"
   ]
  },
  {
   "cell_type": "markdown",
   "metadata": {},
   "source": [
    "### Getting all enrollments on a course\n",
    "\n",
    "In most cases when performing your Canvas wizardry, you'll need to start by getting a single course. Replace set the `course_id` variable in the cell below with the course id corresponding to a Canvas course that you are enrolled on as a teacher."
   ]
  },
  {
   "cell_type": "markdown",
   "metadata": {},
   "source": [
    "```{note}\n",
    "If you don't know a course's id, you can get it by going to the course's homepage on Canvas and then looking at the last number in the URL string, e.g. for https://canvas.liverpool.ac.uk/courses/60371 the course id is 60371.\n",
    "```"
   ]
  },
  {
   "cell_type": "code",
   "execution_count": 6,
   "metadata": {},
   "outputs": [],
   "source": [
    "course_id = 61073 # REPLACE 61073 WITH YOUR COURSE ID - I'm just giving an example here.\n",
    "course = canvas.get_course(course_id)"
   ]
  },
  {
   "cell_type": "markdown",
   "metadata": {},
   "source": [
    "To view all of the settings for the course use the `__dict__` method:"
   ]
  },
  {
   "cell_type": "code",
   "execution_count": 7,
   "metadata": {},
   "outputs": [
    {
     "data": {
      "text/plain": [
       "{'_requester': <canvasapi.requester.Requester at 0x2062a64e400>,\n",
       " 'id': 61073,\n",
       " 'name': '202223-LIFE733 - CODING FOR LIFE SCIENCES',\n",
       " 'account_id': 409,\n",
       " 'uuid': 'vs6vgd3Xcjd2hAipdtCKPM6hohnSDzj22OMBzCOW',\n",
       " 'start_at': None,\n",
       " 'grading_standard_id': None,\n",
       " 'is_public': False,\n",
       " 'created_at': '2022-05-23T16:55:49Z',\n",
       " 'created_at_date': datetime.datetime(2022, 5, 23, 16, 55, 49, tzinfo=<UTC>),\n",
       " 'course_code': 'LIFE733-202223',\n",
       " 'default_view': 'modules',\n",
       " 'root_account_id': 1,\n",
       " 'enrollment_term_id': 111,\n",
       " 'license': 'private',\n",
       " 'grade_passback_setting': None,\n",
       " 'end_at': None,\n",
       " 'public_syllabus': False,\n",
       " 'public_syllabus_to_auth': False,\n",
       " 'storage_quota_mb': 5000,\n",
       " 'is_public_to_auth_users': False,\n",
       " 'homeroom_course': False,\n",
       " 'course_color': None,\n",
       " 'friendly_name': None,\n",
       " 'hide_final_grades': False,\n",
       " 'apply_assignment_group_weights': True,\n",
       " 'calendar': {'ics': 'https://canvas.liverpool.ac.uk/feeds/calendars/course_vs6vgd3Xcjd2hAipdtCKPM6hohnSDzj22OMBzCOW.ics'},\n",
       " 'time_zone': 'Europe/London',\n",
       " 'blueprint': False,\n",
       " 'template': False,\n",
       " 'sis_course_id': 'LIFE733-202223',\n",
       " 'integration_id': None,\n",
       " 'enrollments': [{'type': 'teacher',\n",
       "   'role': 'TeacherEnrollment',\n",
       "   'role_id': 4,\n",
       "   'user_id': 101,\n",
       "   'enrollment_state': 'active',\n",
       "   'limit_privileges_to_course_section': False}],\n",
       " 'workflow_state': 'available',\n",
       " 'restrict_enrollments_to_course_dates': False}"
      ]
     },
     "execution_count": 7,
     "metadata": {},
     "output_type": "execute_result"
    }
   ],
   "source": [
    "course.__dict__"
   ]
  },
  {
   "cell_type": "markdown",
   "metadata": {},
   "source": [
    "If you want, you can also get a course based on the course_code which is usually the course name as it appears in the top left of the course homepage on Canvas. You will need to use the additional parameter `use_sis_id` in the `get_course()` function, and make sure it's set to a value of `True`."
   ]
  },
  {
   "cell_type": "code",
   "execution_count": 8,
   "metadata": {},
   "outputs": [],
   "source": [
    "# Getting a course with its course_code instead of the id\n",
    "\n",
    "course = canvas.get_course(\"LIFE733-202223\", use_sis_id=True)"
   ]
  },
  {
   "cell_type": "markdown",
   "metadata": {},
   "source": [
    "Use the `get_enrollments()` function to get all the enrollments associated with the course."
   ]
  },
  {
   "cell_type": "code",
   "execution_count": 9,
   "metadata": {},
   "outputs": [],
   "source": [
    "# To get all the enrollments on a course\n",
    "enrollments = course.get_enrollments()"
   ]
  },
  {
   "cell_type": "markdown",
   "metadata": {},
   "source": [
    "The line above will successfully return all enrollments for a course and store them in the variable `enrollments`. However, all the information will stored in an object called a `PaginatedList` which isn't that useful when trying to do stuff in Python. For example, if you want to figure out how many enrollments there are you might try and use the `len()` function (very sensible), but for a `PaginatedList` you'd encounter a `TypeError`."
   ]
  },
  {
   "cell_type": "code",
   "execution_count": 10,
   "metadata": {},
   "outputs": [
    {
     "ename": "TypeError",
     "evalue": "object of type 'PaginatedList' has no len()",
     "output_type": "error",
     "traceback": [
      "\u001b[1;31m---------------------------------------------------------------------------\u001b[0m",
      "\u001b[1;31mTypeError\u001b[0m                                 Traceback (most recent call last)",
      "\u001b[1;32m<ipython-input-10-7a7e8b3c342c>\u001b[0m in \u001b[0;36m<module>\u001b[1;34m\u001b[0m\n\u001b[1;32m----> 1\u001b[1;33m \u001b[0mlen\u001b[0m\u001b[1;33m(\u001b[0m\u001b[0menrollments\u001b[0m\u001b[1;33m)\u001b[0m\u001b[1;33m\u001b[0m\u001b[1;33m\u001b[0m\u001b[0m\n\u001b[0m",
      "\u001b[1;31mTypeError\u001b[0m: object of type 'PaginatedList' has no len()"
     ]
    }
   ],
   "source": [
    "len(enrollments)"
   ]
  },
  {
   "cell_type": "markdown",
   "metadata": {},
   "source": [
    "To avoid `TypeErrors`, it is recommended that you retrieve list of things from canvas by using the relevant function, in this case `course.get_enrollments()`, within what is known as a \"list comprehension\" in Python. Without going into any futher detail, the code you need is as follows ..."
   ]
  },
  {
   "cell_type": "code",
   "execution_count": 11,
   "metadata": {},
   "outputs": [],
   "source": [
    "enrollments = [x for x in course.get_enrollments()]"
   ]
  },
  {
   "cell_type": "code",
   "execution_count": 12,
   "metadata": {},
   "outputs": [
    {
     "data": {
      "text/plain": [
       "68"
      ]
     },
     "execution_count": 12,
     "metadata": {},
     "output_type": "execute_result"
    }
   ],
   "source": [
    "len(enrollments) # That's better! I can see there are 68 enrollments on this course."
   ]
  },
  {
   "cell_type": "markdown",
   "metadata": {},
   "source": [
    "Also, you can now slice your list of enrollments, e.g. to pick out a single enrollment from the list to look at it, by doing something like this ..."
   ]
  },
  {
   "cell_type": "code",
   "execution_count": 31,
   "metadata": {},
   "outputs": [
    {
     "data": {
      "text/plain": [
       "Enrollment(_requester=<canvasapi.requester.Requester object at 0x000002062A64E400>, id=2662810, user_id=101, course_id=61073, type=TeacherEnrollment, created_at=2022-05-23T17:06:18Z, created_at_date=2022-05-23 17:06:18+00:00, updated_at=2022-09-22T09:38:18Z, updated_at_date=2022-09-22 09:38:18+00:00, associated_user_id=None, start_at=None, end_at=None, course_section_id=60814, root_account_id=1, limit_privileges_to_course_section=False, enrollment_state=active, role=TeacherEnrollment, role_id=4, last_activity_at=2022-12-05T13:58:29Z, last_activity_at_date=2022-12-05 13:58:29+00:00, last_attended_at=None, total_activity_time=38721, sis_account_id=OX, sis_course_id=LIFE733-202223, course_integration_id=None, sis_section_id=None, section_integration_id=None, sis_user_id=442673treharne, html_url=https://canvas.liverpool.ac.uk/courses/61073/users/101, user={'id': 101, 'name': 'Robert Treharne', 'created_at': '2019-11-26T15:23:49+00:00', 'sortable_name': 'Treharne, Robert', 'short_name': 'Robert Treharne', 'sis_user_id': '442673treharne', 'integration_id': None, 'login_id': 'treharne@liverpool.ac.uk', 'pronouns': 'He/Him'})"
      ]
     },
     "execution_count": 31,
     "metadata": {},
     "output_type": "execute_result"
    }
   ],
   "source": [
    "# Example: Pick out the 65th enrollment from a list of enrollments.\n",
    "enrollments[65]"
   ]
  },
  {
   "cell_type": "markdown",
   "metadata": {},
   "source": [
    "To make the data associated with the enrollment a bit more readable you can use the `__dict__` method."
   ]
  },
  {
   "cell_type": "code",
   "execution_count": 29,
   "metadata": {},
   "outputs": [
    {
     "data": {
      "text/plain": [
       "{'_requester': <canvasapi.requester.Requester at 0x2062a64e400>,\n",
       " 'id': 2662810,\n",
       " 'user_id': 101,\n",
       " 'course_id': 61073,\n",
       " 'type': 'TeacherEnrollment',\n",
       " 'created_at': '2022-05-23T17:06:18Z',\n",
       " 'created_at_date': datetime.datetime(2022, 5, 23, 17, 6, 18, tzinfo=<UTC>),\n",
       " 'updated_at': '2022-09-22T09:38:18Z',\n",
       " 'updated_at_date': datetime.datetime(2022, 9, 22, 9, 38, 18, tzinfo=<UTC>),\n",
       " 'associated_user_id': None,\n",
       " 'start_at': None,\n",
       " 'end_at': None,\n",
       " 'course_section_id': 60814,\n",
       " 'root_account_id': 1,\n",
       " 'limit_privileges_to_course_section': False,\n",
       " 'enrollment_state': 'active',\n",
       " 'role': 'TeacherEnrollment',\n",
       " 'role_id': 4,\n",
       " 'last_activity_at': '2022-12-05T13:58:29Z',\n",
       " 'last_activity_at_date': datetime.datetime(2022, 12, 5, 13, 58, 29, tzinfo=<UTC>),\n",
       " 'last_attended_at': None,\n",
       " 'total_activity_time': 38721,\n",
       " 'sis_account_id': 'OX',\n",
       " 'sis_course_id': 'LIFE733-202223',\n",
       " 'course_integration_id': None,\n",
       " 'sis_section_id': None,\n",
       " 'section_integration_id': None,\n",
       " 'sis_user_id': '442673treharne',\n",
       " 'html_url': 'https://canvas.liverpool.ac.uk/courses/61073/users/101',\n",
       " 'user': {'id': 101,\n",
       "  'name': 'Robert Treharne',\n",
       "  'created_at': '2019-11-26T15:23:49+00:00',\n",
       "  'sortable_name': 'Treharne, Robert',\n",
       "  'short_name': 'Robert Treharne',\n",
       "  'sis_user_id': '442673treharne',\n",
       "  'integration_id': None,\n",
       "  'login_id': 'treharne@liverpool.ac.uk',\n",
       "  'pronouns': 'He/Him'}}"
      ]
     },
     "execution_count": 29,
     "metadata": {},
     "output_type": "execute_result"
    }
   ],
   "source": [
    "# Use .__dict__ to print out the dictionary map for the enrollment object. Beatuful!\n",
    "enrollments[65].__dict__"
   ]
  },
  {
   "cell_type": "markdown",
   "metadata": {},
   "source": [
    "You can access any \"key value\" associated with the enrollment object by using `.<key_name>` on any enrollment object. For example, to get the role associated the object above:"
   ]
  },
  {
   "cell_type": "code",
   "execution_count": 32,
   "metadata": {},
   "outputs": [
    {
     "data": {
      "text/plain": [
       "'TeacherEnrollment'"
      ]
     },
     "execution_count": 32,
     "metadata": {},
     "output_type": "execute_result"
    }
   ],
   "source": [
    "# Get the role associated with my enrollment\n",
    "enrollments[65].role"
   ]
  },
  {
   "cell_type": "markdown",
   "metadata": {},
   "source": [
    "Sometimes, you just want to get the enrollments associated with a particular role, e.g. ``StudentEnrol"
   ]
  },
  {
   "cell_type": "markdown",
   "metadata": {},
   "source": [
    "### Export course enrollments\n",
    "\n",
    "Sometimes, it's really useful to get export all of the enrollments on a Canvas course to an Excel spreadsheet. This might be required, for example, if you wanted to manually allocate students to particular groups in Canvas and wanted to prepare a batch spreadsheet with a \"Group Name\" column."
   ]
  },
  {
   "cell_type": "code",
   "execution_count": 34,
   "metadata": {},
   "outputs": [],
   "source": [
    "# The pandas module is fantastic for reading/creating spreadsheets from data in Python\n",
    "import pandas as pd\n",
    "\n",
    "rows = [] #create an empty list to store your row data\n",
    "\n",
    "# Loop over all your enrollments\n",
    "for e in enrollments:\n",
    "    # Create a dictionary containing useful info from each enrollment\n",
    "    row = {\n",
    "        \"user_id\": e.user_id,\n",
    "        \"sortable_name\": e.user[\"sortable_name\"],\n",
    "        \"role\": e.role,\n",
    "        \"course_section_id\": e.course_section_id\n",
    "    }\n",
    "    rows.append(row) # add the dictionary to the rows list.\n",
    "\n",
    "output = pd.DataFrame(rows) # Convert your rows into a Pandas dataframe"
   ]
  },
  {
   "cell_type": "code",
   "execution_count": 36,
   "metadata": {},
   "outputs": [],
   "source": [
    "# Save the output to an Excel spreadsheet\n",
    "output.to_excel(\"course_enrollments.xlsx\")"
   ]
  },
  {
   "cell_type": "markdown",
   "metadata": {},
   "source": [
    "```{note}\n",
    "If you're running a Binder instance of this chapter then click File --> Open, tick the checkbox next to the \"course_enrollments.xlsx\" file and then hit the Download button to get a copy of your saved spreadsheet.\n",
    "\n",
    "Similarly, if you're using Collab, click the files icon in the left toolbar, find your file and click the elipsis next to the filename to download the file.\n",
    "```"
   ]
  },
  {
   "cell_type": "markdown",
   "metadata": {},
   "source": [
    "## Assignments"
   ]
  },
  {
   "cell_type": "markdown",
   "metadata": {},
   "source": [
    "## Submissions"
   ]
  },
  {
   "cell_type": "code",
   "execution_count": null,
   "metadata": {},
   "outputs": [],
   "source": []
  }
 ],
 "metadata": {
  "kernelspec": {
   "display_name": "Python 3",
   "language": "python",
   "name": "python3"
  },
  "language_info": {
   "codemirror_mode": {
    "name": "ipython",
    "version": 3
   },
   "file_extension": ".py",
   "mimetype": "text/x-python",
   "name": "python",
   "nbconvert_exporter": "python",
   "pygments_lexer": "ipython3",
   "version": "3.8.5"
  }
 },
 "nbformat": 4,
 "nbformat_minor": 5
}
