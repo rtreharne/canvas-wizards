{
 "cells": [
  {
   "cell_type": "markdown",
   "id": "e4b98e2d",
   "metadata": {},
   "source": [
    "# Essentials\n",
    "\n",
    "As a Canvas Admin Wizard there are three key areas that your tasks are likely to fall into:\n",
    "\n",
    "\n",
    "+ Enrollments\n",
    "+ Assignments\n",
    "+ Submissions\n",
    "\n",
    "Before we begin, create your `canvas` session variable again by running the cell below with `API_URL` AND `API_KEY` set to your own personal values."
   ]
  },
  {
   "cell_type": "code",
   "execution_count": 1,
   "id": "09bcbb41",
   "metadata": {},
   "outputs": [],
   "source": [
    "# Create your Canvas session\n",
    "\n",
    "from canvasapi import Canvas\n",
    "\n",
    "API_URL = \"\" # e.g. \"https://liverpool.instructure.com\"\n",
    "API_KEY = \"\"\n",
    "\n",
    "API_URL = \"https://canvas.liverpool.ac.uk\"\n",
    "API_KEY = \"15502~DqhNjK9tqamH68fsXvkoPkvH3Jgk5Tu5Uf5p4MFiCjoiUKGJBeqR7vgFs3yOj9Oe\"\n",
    "\n",
    "canvas = Canvas(API_URL, API_KEY)"
   ]
  },
  {
   "cell_type": "markdown",
   "id": "2b98cca4",
   "metadata": {},
   "source": [
    "## Enrollments"
   ]
  },
  {
   "cell_type": "markdown",
   "id": "403cdbc9",
   "metadata": {},
   "source": [
    "### Getting all enrollments on a course\n",
    "\n",
    "In most cases when performing your Canvas wizardry, you'll need to start by getting a single course. Replace set the `course_id` variable in the cell below with the course id corresponding to a Canvas course that you are enrolled on as a teacher."
   ]
  },
  {
   "cell_type": "markdown",
   "id": "d2dea839",
   "metadata": {},
   "source": [
    "```{note}\n",
    "If you don't know a course's id, you can get it by going to the course's homepage on Canvas and then looking at the last number in the URL string, e.g. for https://canvas.liverpool.ac.uk/courses/60371 the course id is 60371.\n",
    "```"
   ]
  },
  {
   "cell_type": "code",
   "execution_count": null,
   "id": "e5967616",
   "metadata": {},
   "outputs": [],
   "source": [
    "course_id = 61073 # REPLACE 61073 WITH YOUR COURSE ID - I'm just giving an example here.\n",
    "course = canvas.get_course(course_id)"
   ]
  },
  {
   "cell_type": "markdown",
   "id": "000ca7a3",
   "metadata": {},
   "source": [
    "To view all of the settings for the course use the `__dict__` method:"
   ]
  },
  {
   "cell_type": "code",
   "execution_count": null,
   "id": "fe55b64f",
   "metadata": {},
   "outputs": [],
   "source": [
    "course.__dict__"
   ]
  },
  {
   "cell_type": "markdown",
   "id": "69d06bd4",
   "metadata": {},
   "source": [
    "If you want, you can also get a course based on the course_code which is usually the course name as it appears in the top left of the course homepage on Canvas. You will need to use the additional parameter `use_sis_id` in the `get_course()` function, and make sure it's set to a value of `True`."
   ]
  },
  {
   "cell_type": "code",
   "execution_count": null,
   "id": "645e8bf7",
   "metadata": {},
   "outputs": [],
   "source": [
    "# Getting a course with its course_code instead of the id\n",
    "# LIFE733-202223 is used as an example here. User your own course_code!\n",
    "\n",
    "course = canvas.get_course(\"LIFE733-202223\", use_sis_id=True)"
   ]
  },
  {
   "cell_type": "markdown",
   "id": "f97d09e3",
   "metadata": {},
   "source": [
    "Use the `get_enrollments()` function to get all the enrollments associated with the course."
   ]
  },
  {
   "cell_type": "code",
   "execution_count": null,
   "id": "a4925021",
   "metadata": {},
   "outputs": [],
   "source": [
    "# To get all the enrollments on a course\n",
    "enrollments = course.get_enrollments()"
   ]
  },
  {
   "cell_type": "markdown",
   "id": "12668c63",
   "metadata": {},
   "source": [
    "The line above will successfully return all enrollments for a course and store them in the variable `enrollments`. However, all the information will stored in an object called a `PaginatedList` which isn't that useful when trying to do stuff in Python. For example, if you want to figure out how many enrollments there are you might try and use the `len()` function (very sensible), but for a `PaginatedList` you'd encounter a `TypeError`."
   ]
  },
  {
   "cell_type": "code",
   "execution_count": null,
   "id": "f0ef0ec0",
   "metadata": {},
   "outputs": [],
   "source": [
    "len(enrollments)"
   ]
  },
  {
   "cell_type": "markdown",
   "id": "88ce1351",
   "metadata": {},
   "source": [
    "To avoid `TypeErrors`, it is recommended that you retrieve list of things from canvas by using the relevant function, in this case `course.get_enrollments()`, within what is known as a \"list comprehension\" in Python. Without going into any futher detail, the code you need is as follows ..."
   ]
  },
  {
   "cell_type": "code",
   "execution_count": null,
   "id": "8c4a7d0d",
   "metadata": {},
   "outputs": [],
   "source": [
    "enrollments = [x for x in course.get_enrollments()]"
   ]
  },
  {
   "cell_type": "markdown",
   "id": "5cb03066",
   "metadata": {},
   "source": [
    "```{note}\n",
    "This slightly more complicated way of obtaining a list of things from Canvas is better in the long run. You'll see it used a lot when I'm getting enrollments, assignments and submissions.\n",
    "```"
   ]
  },
  {
   "cell_type": "code",
   "execution_count": null,
   "id": "1239f619",
   "metadata": {},
   "outputs": [],
   "source": [
    "len(enrollments) # That's better! I can see there are 68 enrollments on this course."
   ]
  },
  {
   "cell_type": "markdown",
   "id": "8a6ddc47",
   "metadata": {},
   "source": [
    "Also, you can now slice your list of enrollments, e.g. to pick out a single enrollment from the list to look at it, by doing something like this ..."
   ]
  },
  {
   "cell_type": "code",
   "execution_count": null,
   "id": "6d4582f9",
   "metadata": {},
   "outputs": [],
   "source": [
    "# Example: Pick out the 65th enrollment from a list of enrollments.\n",
    "enrollments[65]"
   ]
  },
  {
   "cell_type": "markdown",
   "id": "922a8ca9",
   "metadata": {},
   "source": [
    "To make the data associated with the enrollment a bit more readable you can use the `__dict__` method."
   ]
  },
  {
   "cell_type": "code",
   "execution_count": null,
   "id": "0595dc83",
   "metadata": {},
   "outputs": [],
   "source": [
    "# Use .__dict__ to print out the dictionary map for the enrollment object. Beatuful!\n",
    "enrollments[65].__dict__"
   ]
  },
  {
   "cell_type": "markdown",
   "id": "44eb84d1",
   "metadata": {},
   "source": [
    "You can access any \"key value\" associated with the enrollment object by using `.<key_name>` on any enrollment object. For example, to get the role associated the object above:"
   ]
  },
  {
   "cell_type": "code",
   "execution_count": null,
   "id": "607da001",
   "metadata": {},
   "outputs": [],
   "source": [
    "# Get the role associated with my enrollment\n",
    "enrollments[65].role"
   ]
  },
  {
   "cell_type": "markdown",
   "id": "0c9fe99e",
   "metadata": {},
   "source": [
    "Sometimes, you just want to get the enrollments associated with a particular role, e.g. ``StudentEnrolment``. To do this you can filter accordingly using the following line."
   ]
  },
  {
   "cell_type": "code",
   "execution_count": null,
   "id": "e675d475",
   "metadata": {},
   "outputs": [],
   "source": [
    "student_enrollments = [x for x in course.get_enrollments() if x.role == \"StudentEnrollment\"]"
   ]
  },
  {
   "cell_type": "markdown",
   "id": "2c856ffb",
   "metadata": {},
   "source": [
    "### Export course enrollments\n",
    "\n",
    "Sometimes, it's really useful to get export all of the enrollments on a Canvas course to an Excel spreadsheet. This might be required, for example, if you wanted to manually allocate students to particular groups in Canvas and wanted to prepare a batch spreadsheet with a \"Group Name\" column.\n",
    "\n",
    "How do we do this? We do it with [Pandas](https://pandas.pydata.org/)!\n",
    "\n",
    "Run the cell below to create a Pandas data frame containing your enrollment data."
   ]
  },
  {
   "cell_type": "code",
   "execution_count": null,
   "id": "465aa14e",
   "metadata": {},
   "outputs": [],
   "source": [
    "# The pandas module is fantastic for reading/creating spreadsheets from data in Python\n",
    "import pandas as pd\n",
    "\n",
    "rows = [] #create an empty list to store your row data\n",
    "\n",
    "# Loop over all your student enrollments\n",
    "for e in student_enrollments:\n",
    "    # Create a dictionary containing useful info from each enrollment\n",
    "    row = {\n",
    "        \"user_id\": e.user_id,\n",
    "        \"sortable_name\": e.user[\"sortable_name\"],\n",
    "        \"role\": e.role,\n",
    "        \"course_section_id\": e.course_section_id\n",
    "    }\n",
    "    rows.append(row) # add the dictionary to the rows list.\n",
    "\n",
    "output = pd.DataFrame(rows) # Convert your rows into a Pandas dataframe"
   ]
  },
  {
   "cell_type": "markdown",
   "id": "3de28f42",
   "metadata": {},
   "source": [
    "You can view the first 5 rows of your data frame using the following command."
   ]
  },
  {
   "cell_type": "code",
   "execution_count": null,
   "id": "886adb74",
   "metadata": {},
   "outputs": [],
   "source": [
    "# check it out!\n",
    "output.head()"
   ]
  },
  {
   "cell_type": "markdown",
   "id": "7ccb7d17",
   "metadata": {},
   "source": [
    "Finally, lets save the data frame to something we all know and love - the humble Excel spreadsheet."
   ]
  },
  {
   "cell_type": "code",
   "execution_count": null,
   "id": "66ab24a9",
   "metadata": {},
   "outputs": [],
   "source": [
    "# Save the output to an Excel spreadsheet\n",
    "output.to_excel(\"course_enrollments.xlsx\", index=False)"
   ]
  },
  {
   "cell_type": "markdown",
   "id": "b72585ce",
   "metadata": {},
   "source": [
    "```{note}\n",
    "If you're running a Binder instance of this chapter then click File --> Open, tick the checkbox next to the \"course_enrollments.xlsx\" file and then hit the Download button to get a copy of your saved spreadsheet.\n",
    "\n",
    "Similarly, if you're using Collab, click the files icon in the left toolbar, find your file and click the elipsis next to the filename to download the file.\n",
    "```"
   ]
  },
  {
   "cell_type": "markdown",
   "id": "7a2f01e1",
   "metadata": {},
   "source": [
    "### Enrolling Users\n",
    "\n",
    "Enrolling users onto a Canvas course using the LMS interface is somewhat clunky. You have to type in the `login_id` (usually an email) of each user manually one-by-one and click a few more buttons. If you need to add many users (sometimes hundreds) to a new course it might be easier to use some more wizadry."
   ]
  },
  {
   "cell_type": "markdown",
   "id": "69801266",
   "metadata": {},
   "source": [
    "```{note}\n",
    "When enrolling users to a Canvas course using the LMS an unavoidable invite notification will be sent via email to the user. You can, however, prevent this behaviour using the API.\n",
    "```"
   ]
  },
  {
   "cell_type": "markdown",
   "id": "8111ee89",
   "metadata": {},
   "source": [
    "Below is an example of how to enroll a new user (in this case me! - my id is a very Orwellian 101) as a Teacher on a course. The `enrollment` dictionary contains information on the `enrollment_state` of the user. By setting it to `active` we can avoid sending the user any notification of their enrollment which is sometimes preferable."
   ]
  },
  {
   "cell_type": "code",
   "execution_count": null,
   "id": "46998cfe",
   "metadata": {},
   "outputs": [],
   "source": [
    "# Enrollment example\n",
    "\n",
    "course.enroll_user(user=101, #the id of the user\n",
    "                   enrollment_type=\"TeacherEnrollment\", # use \"StudentEnrollment\" if you want to enrols as student.\n",
    "                   enrollment={\n",
    "                       \"enrollment_state\": \"active\" # important! Otherwise use will receive notification.\n",
    "                   }\n",
    "                  )"
   ]
  },
  {
   "cell_type": "markdown",
   "id": "debdfb7b",
   "metadata": {},
   "source": [
    "And hey presto! The user is enrolled. If you navigate to the \"People\" section of the course via the LMS you should now be able to see the enrollment.\n",
    "\n",
    "Very often it is necessary to take all the enrollments from one course and replicated them on another. Remember that `course_enrollments.xlsx` spreadsheet that you created above. Let's use this to enrol all of the students on another course."
   ]
  },
  {
   "cell_type": "code",
   "execution_count": null,
   "id": "c0c19a61",
   "metadata": {},
   "outputs": [],
   "source": [
    "# Read the spreadsheet to a data frame variable called `user_sheet`\n",
    "user_sheet = pd.read_excel(\"course_enrollments.xlsx\")"
   ]
  },
  {
   "cell_type": "code",
   "execution_count": null,
   "id": "07012147",
   "metadata": {},
   "outputs": [],
   "source": [
    "user_sheet.columns"
   ]
  },
  {
   "cell_type": "code",
   "execution_count": null,
   "id": "318534f3",
   "metadata": {},
   "outputs": [],
   "source": [
    "# enroll them on another course\n",
    "# I'll use my own personal test course for this example, id=53523\n",
    "# https://canvas.liverpool.ac.uk/courses/53523/users\n",
    "# You can use any other course you're enrolled on.\n",
    "\n",
    "test_course = canvas.get_course(53523)\n",
    "\n",
    "for i, row in user_sheet.iterrows():\n",
    "    print(\"Enrolling user: \", row.user_id) # Print out a line-by-line log of what's going on.\n",
    "    \n",
    "    # Enroll each user in turn from the data frame\n",
    "    \n",
    "    try:\n",
    "        test_course.enroll_user(user=row.user_id, \n",
    "                       enrollment_type=row.role,\n",
    "                       enrollment={\n",
    "                           \"enrollment_state\": \"active\" # important! Otherwise use will receive notification.\n",
    "                       }\n",
    "                      )\n",
    "    except:\n",
    "        print(\"Couldn't enroll user: {} ({})\".format(row.sortable_name, row.user_id))"
   ]
  },
  {
   "cell_type": "markdown",
   "id": "0e4eba92",
   "metadata": {},
   "source": [
    "Checkout the \"People\" area on your test course now. You should see that all the students in the spreadsheet have been enrolled."
   ]
  },
  {
   "cell_type": "markdown",
   "id": "ddf8a9ae",
   "metadata": {},
   "source": [
    "### Deleting Users\n",
    "\n",
    "Unless you're super important, and have Canvas superuser permissions granted by some boffin your IT department, you won't be able to remove users from a course using the LMS. This is often a source of serious consternation for teachers who need to remove students from their courses and also for students who have de-registered from a course but still keep receiving Canvas notifications. \n",
    "\n",
    "Luckily for you, users *can* be removed using the Canvas API.\n",
    "\n",
    "As an example, let's get all the student enrollments on a course, print them out in a big list and then delete the enrollment chose enrollment."
   ]
  },
  {
   "cell_type": "code",
   "execution_count": null,
   "id": "4db54342",
   "metadata": {},
   "outputs": [],
   "source": [
    "# Get all student enrollments on the test_course we used above\n",
    "# Note: I'm filtering the enrollments so I don't include my own enrollment on the course (I can't delete mysef!)\n",
    "\n",
    "enrollments = [x for x in test_course.get_enrollments() if x.type==\"StudentEnrollment\" and \"Treharne\" not in x.user[\"name\"]]"
   ]
  },
  {
   "cell_type": "code",
   "execution_count": null,
   "id": "48a699ca",
   "metadata": {},
   "outputs": [],
   "source": [
    "# Loop over all your enrollments and print out the index and user name\n",
    "for i, e in enumerate(enrollments):\n",
    "    print(i, e.id, e.user[\"sortable_name\"])"
   ]
  },
  {
   "cell_type": "markdown",
   "id": "0bea48c4",
   "metadata": {},
   "source": [
    "Select the enrollmet you want to delete by using `[x]` at the end of your `enrollments` variable, where `x` is the index of the enrollment (you printed them out above)."
   ]
  },
  {
   "cell_type": "code",
   "execution_count": null,
   "id": "ce2b8b72",
   "metadata": {},
   "outputs": [],
   "source": [
    "# Select the enrollment to delete\n",
    "# Arbitrarily I'm going to delete the first enrollment (i.e. use [0] to slice)\n",
    "\n",
    "enrollment_to_delete = enrollments[15]"
   ]
  },
  {
   "cell_type": "markdown",
   "id": "7a1d3fdd",
   "metadata": {},
   "source": [
    "Now, use the `.deactivate` function. Make sure you pass it a `task` variable with the value `\"delete\"` set."
   ]
  },
  {
   "cell_type": "code",
   "execution_count": null,
   "id": "c1bca669",
   "metadata": {},
   "outputs": [],
   "source": [
    "# Select the enrollment you want to delete by using `[x]` at the end of your `enrollment\n",
    "\n",
    "enrollment_to_delete.deactivate(task=\"delete\")"
   ]
  },
  {
   "cell_type": "markdown",
   "id": "532acd91",
   "metadata": {},
   "source": [
    "If you run the cells above that to get and print your enrollments again, you should see that the first enrollment is now gone! If you want to go a step further here and delete *all* your student enrollments from the course then you can run the following cell."
   ]
  },
  {
   "cell_type": "markdown",
   "id": "08e5e2c3",
   "metadata": {},
   "source": [
    "```{warning}\n",
    "There's no way of undoing the following. It is strongly recommended that you export the course enrollments to a spreadsheet (see above) and keep the file in a safe place just in case you need to re-add the students to the course.\n",
    "```"
   ]
  },
  {
   "cell_type": "code",
   "execution_count": null,
   "id": "9fcd931d",
   "metadata": {},
   "outputs": [],
   "source": [
    "# Remove ALL students from a course\n",
    "# Only do this if you're absolutely sure!\n",
    "\n",
    "for e in enrollments:\n",
    "    try:\n",
    "        e.deactivate(task=\"delete\")\n",
    "        print(\"{} ({}) removed from course.\".format(e.user[\"sortable_name\"], e.user[\"id\"]))\n",
    "    except:\n",
    "        print(\"No enrollment to delete!\")"
   ]
  },
  {
   "cell_type": "markdown",
   "id": "465cc6c8",
   "metadata": {},
   "source": [
    "## Assignments\n",
    "\n",
    "TODO:\n",
    "\n",
    "+ Getting Assignments\n",
    "+ Editing Existing Assignments\n",
    "+ Creating New assignments\n",
    "+ Duplicating assignments"
   ]
  },
  {
   "cell_type": "code",
   "execution_count": null,
   "id": "805405b9",
   "metadata": {},
   "outputs": [],
   "source": [
    "### Getting Assignments\n",
    "\n"
   ]
  },
  {
   "cell_type": "code",
   "execution_count": null,
   "id": "549c39d2",
   "metadata": {},
   "outputs": [],
   "source": [
    "from canvasapi import Canvas\n",
    "\n",
    "canvas = Canvas(\"https://canvas.liverpool.ac.uk\", \"15502~DqhNjK9tqamH68fsXvkoPkvH3Jgk5Tu5Uf5p4MFiCjoiUKGJBeqR7vgFs3yOj9Oe\")"
   ]
  },
  {
   "cell_type": "code",
   "execution_count": null,
   "id": "bd0b03dd",
   "metadata": {},
   "outputs": [],
   "source": [
    "# first get the course\n",
    "course = canvas.get_course(53523) # 53523 is the id of my personal test course\n",
    "\n",
    "# then get the assignment\n",
    "assignment = course.get_assignment(224200) # 224200 is the assignment id. Get it from the assignment url. "
   ]
  },
  {
   "cell_type": "code",
   "execution_count": null,
   "id": "61c9058b",
   "metadata": {},
   "outputs": [],
   "source": [
    "# inspect the assignment object\n",
    "assignment.__dict__"
   ]
  },
  {
   "cell_type": "code",
   "execution_count": null,
   "id": "d49c3428",
   "metadata": {},
   "outputs": [],
   "source": [
    "# get all course assignments\n",
    "assignments = [x for x in course.get_assignments()]"
   ]
  },
  {
   "cell_type": "code",
   "execution_count": null,
   "id": "3f06e51b",
   "metadata": {},
   "outputs": [],
   "source": [
    "for a in assignments:\n",
    "    print(a)"
   ]
  },
  {
   "cell_type": "code",
   "execution_count": null,
   "id": "1cf3c8e7",
   "metadata": {},
   "outputs": [],
   "source": [
    "# filter assignments based on key value\n",
    "assignments = [x for x in course.get_assignments() if x.due_at == \"2023-01-09T12:00:00Z\"]"
   ]
  },
  {
   "cell_type": "code",
   "execution_count": null,
   "id": "b8f26e1a",
   "metadata": {},
   "outputs": [],
   "source": [
    "assignments = [x for x in course.get_assignments() if \"test\" in x.name.lower()]"
   ]
  },
  {
   "cell_type": "markdown",
   "id": "395b51c2",
   "metadata": {},
   "source": [
    "### Edit Assignments"
   ]
  },
  {
   "cell_type": "code",
   "execution_count": null,
   "id": "26551769",
   "metadata": {},
   "outputs": [],
   "source": [
    "a = assignments[0] # from above\n",
    "\n",
    "assignment_update_info = {\n",
    "    \"description\": \"Important information about this assignment\",\n",
    "    \"due_at\": \"2023-01-09T16:00:00Z\", # important to get the format correct\n",
    "    \"name\": \"Awesome Assignment\",\n",
    "    \"published\": False\n",
    "}\n",
    "\n",
    "a = a.edit(assignment=assignment_update_info)"
   ]
  },
  {
   "cell_type": "markdown",
   "id": "a46d1e38",
   "metadata": {},
   "source": [
    "### Duplicate Assignments"
   ]
  },
  {
   "cell_type": "code",
   "execution_count": null,
   "id": "b5c860a3",
   "metadata": {},
   "outputs": [],
   "source": [
    "import requests\n",
    "\n",
    "def duplicate_assignment(course_id, assignment_id):\n",
    "    \"\"\"\n",
    "    This function takes an assignment and makes an identical duplicate.\n",
    "    You will make sure your API_URL and API_KEY variables are set\n",
    "    before using this function. Also, import the requests module.\n",
    "    \"\"\"\n",
    "    \n",
    "    # set the url endpoint\n",
    "    url = f'{API_URL}/api/v1/courses/{course_id}/assignments/{assignment_id}/duplicate'\n",
    "    \n",
    "    # set the request header for authentication\n",
    "    header = {'Authorization': 'Bearer {}'.format(API_KEY)}\n",
    "    \n",
    "    # make the request\n",
    "    r = requests.post(url, headers=header)\n",
    "    \n",
    "    # get the new assignment\n",
    "    assignment = canvas.get_course(course_id).get_assignment(r.json()[\"id\"])\n",
    "    \n",
    "    return assignment"
   ]
  },
  {
   "cell_type": "code",
   "execution_count": null,
   "id": "f8064ea6",
   "metadata": {},
   "outputs": [],
   "source": [
    "# Running this cell will copy your assignment from above. Check this in Canvas\n",
    "new_assignment = duplicate_assignment(course.id, a.id)"
   ]
  },
  {
   "cell_type": "code",
   "execution_count": null,
   "id": "6ce9c92c",
   "metadata": {},
   "outputs": [],
   "source": [
    "new_assignment.name"
   ]
  },
  {
   "cell_type": "code",
   "execution_count": null,
   "id": "c6b90bce",
   "metadata": {},
   "outputs": [],
   "source": [
    "new_assignment = new_assignment.edit(\n",
    "    assignment={\n",
    "        \"name\": \"Another Awesome Assignment\",\n",
    "        \"published\": True,\n",
    "        \"due_at\": \"2023-01-10T12:00:00Z\"\n",
    "    }\n",
    ")"
   ]
  },
  {
   "cell_type": "code",
   "execution_count": null,
   "id": "1af00732",
   "metadata": {},
   "outputs": [],
   "source": [
    "for i in range(1,6):\n",
    "    new_assignment = duplicate_assignment(course.id, a.id)\n",
    "    new_assignment.edit(\n",
    "        assignment={\n",
    "            \"name\": \"Assignment {}\".format(str(i)),\n",
    "            \"published\": True,\n",
    "            \"position\": i+1 # This will make sure they appear in the correct order\n",
    "        }\n",
    "    )"
   ]
  },
  {
   "cell_type": "markdown",
   "id": "2a673233",
   "metadata": {},
   "source": [
    "### Importing Assignments"
   ]
  },
  {
   "cell_type": "code",
   "execution_count": null,
   "id": "1b73a530",
   "metadata": {},
   "outputs": [],
   "source": [
    "def import_assignment(from_course_id, to_course_id, assignment_id):\n",
    "    settings = {\n",
    "        \"source_course_id\": from_course_id,\n",
    "        \"selective_import\": True,\n",
    "      }\n",
    "\n",
    "    select = {\n",
    "        \"assignments\": [assignment_id]\n",
    "    }\n",
    "\n",
    "    canvas.get_course(to_course_id).create_content_migration(migration_type=\"course_copy_importer\", settings=settings, select=select)"
   ]
  },
  {
   "cell_type": "code",
   "execution_count": null,
   "id": "1775c82c",
   "metadata": {},
   "outputs": [],
   "source": [
    "# https://canvas.liverpool.ac.uk/courses/58338/assignments/201149\n",
    "import_assignment(58338, course.id, 201149)"
   ]
  },
  {
   "cell_type": "markdown",
   "id": "0312db00",
   "metadata": {},
   "source": [
    "You can import anything!\n",
    "\n",
    "https://canvas.instructure.com/doc/api/content_migrations.html#method.content_migrations.create"
   ]
  },
  {
   "cell_type": "markdown",
   "id": "81646b93",
   "metadata": {},
   "source": [
    "## Submissions"
   ]
  },
  {
   "cell_type": "code",
   "execution_count": 155,
   "id": "eede87ca",
   "metadata": {},
   "outputs": [],
   "source": [
    "course = canvas.get_course(\"LIFE113-202122\", use_sis_id=True)"
   ]
  },
  {
   "cell_type": "code",
   "execution_count": 156,
   "id": "b3e19c29",
   "metadata": {},
   "outputs": [],
   "source": [
    "assignments = [x for x in course.get_assignments()]"
   ]
  },
  {
   "cell_type": "code",
   "execution_count": 157,
   "id": "d43dc98e",
   "metadata": {},
   "outputs": [
    {
     "name": "stdout",
     "output_type": "stream",
     "text": [
      "Student Survey (194236)\n",
      "Fizzy Newt | Record Session Attendance (149927)\n",
      "Fizzy Newt | Record An Absence (149928)\n",
      "Moles, Concentrations and Dilutions Practice Problems (154730)\n",
      "Unit Conversion (154729)\n",
      "Good Laboratory Practice (GLP) V1.2 (190769)\n",
      "LIFE113.1 (40%) - Test 1 (Summative) (165716)\n",
      "LIFE113.0 (60%) - Test 2 (Summative) (168483)\n",
      "RESIT LIFE113.1 (40%) - Test 1 (199616)\n",
      "RESIT LIFE113.0 (60%) - Test 2 (199617)\n"
     ]
    }
   ],
   "source": [
    "for a in assignments:\n",
    "    print(a)"
   ]
  },
  {
   "cell_type": "code",
   "execution_count": 158,
   "id": "8d50d67f",
   "metadata": {},
   "outputs": [],
   "source": [
    "assignments = [x for x in course.get_assignments() if \"LIFE113.\" in x.name]"
   ]
  },
  {
   "cell_type": "code",
   "execution_count": 159,
   "id": "a92a1ab0",
   "metadata": {},
   "outputs": [],
   "source": [
    "assignment = assignments[1]"
   ]
  },
  {
   "cell_type": "code",
   "execution_count": 178,
   "id": "557ad1c5",
   "metadata": {},
   "outputs": [],
   "source": [
    "submissions = [x for x in assignment.get_submissions(include=[\"user\"])]\n",
    "#submissions = [x for x in assignment.get_submissions(include=[\"user\"])]"
   ]
  },
  {
   "cell_type": "code",
   "execution_count": 174,
   "id": "10615674",
   "metadata": {},
   "outputs": [
    {
     "data": {
      "text/plain": [
       "428"
      ]
     },
     "execution_count": 174,
     "metadata": {},
     "output_type": "execute_result"
    }
   ],
   "source": [
    "len(submissions)"
   ]
  },
  {
   "cell_type": "code",
   "execution_count": 177,
   "id": "01b069eb",
   "metadata": {},
   "outputs": [
    {
     "data": {
      "text/plain": [
       "{'_requester': <canvasapi.requester.Requester at 0x7efd3d253070>,\n",
       " 'id': 15946621,\n",
       " 'body': 'user: 3283, quiz: 116522, score: 60.0, time: 2022-01-20 11:44:59 +0000',\n",
       " 'url': None,\n",
       " 'grade': '60',\n",
       " 'score': 60.0,\n",
       " 'submitted_at': '2022-01-20T11:44:59Z',\n",
       " 'submitted_at_date': datetime.datetime(2022, 1, 20, 11, 44, 59, tzinfo=<UTC>),\n",
       " 'assignment_id': 168483,\n",
       " 'user_id': 3283,\n",
       " 'user_id_date': datetime.datetime(3283, 1, 1, 0, 0, tzinfo=<UTC>),\n",
       " 'submission_type': 'online_quiz',\n",
       " 'workflow_state': 'graded',\n",
       " 'grade_matches_current_submission': True,\n",
       " 'graded_at': '2022-01-20T11:44:59Z',\n",
       " 'graded_at_date': datetime.datetime(2022, 1, 20, 11, 44, 59, tzinfo=<UTC>),\n",
       " 'grader_id': -116522,\n",
       " 'attempt': 1,\n",
       " 'cached_due_date': '2022-01-21T16:00:00Z',\n",
       " 'cached_due_date_date': datetime.datetime(2022, 1, 21, 16, 0, tzinfo=<UTC>),\n",
       " 'excused': None,\n",
       " 'late_policy_status': None,\n",
       " 'points_deducted': None,\n",
       " 'grading_period_id': None,\n",
       " 'extra_attempts': None,\n",
       " 'posted_at': '2022-02-10T11:10:55Z',\n",
       " 'posted_at_date': datetime.datetime(2022, 2, 10, 11, 10, 55, tzinfo=<UTC>),\n",
       " 'redo_request': False,\n",
       " 'late': False,\n",
       " 'missing': False,\n",
       " 'seconds_late': 0,\n",
       " 'entered_grade': '60',\n",
       " 'entered_score': 60.0,\n",
       " 'preview_url': 'https://canvas.liverpool.ac.uk/courses/46832/assignments/168483/submissions/3283?preview=1&version=1',\n",
       " 'user': {'id': 3283,\n",
       "  'name': 'Freya Baxter',\n",
       "  'created_at': '2020-01-16T14:50:56+00:00',\n",
       "  'sortable_name': 'Baxter, Freya',\n",
       "  'short_name': 'Freya Baxter',\n",
       "  'sis_user_id': '201427538psfbaxte',\n",
       "  'integration_id': None,\n",
       "  'login_id': 'psfbaxte@liverpool.ac.uk',\n",
       "  'avatar_url': 'https://canvas.liverpool.ac.uk/images/messages/avatar-50.png'},\n",
       " 'anonymous_id': 'h3pgr',\n",
       " 'course_id': 46832,\n",
       " 'attachments': []}"
      ]
     },
     "execution_count": 177,
     "metadata": {},
     "output_type": "execute_result"
    }
   ],
   "source": [
    "submissions[0].__dict__"
   ]
  },
  {
   "cell_type": "code",
   "execution_count": 172,
   "id": "a9d658c2",
   "metadata": {},
   "outputs": [],
   "source": [
    "import pandas as pd\n",
    "from datetime import datetime, date\n",
    "import pytz\n",
    "\n",
    "rows = []\n",
    "for sub in submissions:\n",
    "    if \"submitted_at_date\" in sub.__dict__.keys():\n",
    "        if sub.submitted_at_date <= assignment.due_at_date: # \n",
    "            rows.append(\n",
    "                {\n",
    "                    \"course_code\": course.course_code,\n",
    "                    \"assignment\": assignment.name,\n",
    "                    \"anonymous_id\": sub.anonymous_id,\n",
    "                    \"score\": sub.score,\n",
    "                    \"submitted_at\": sub.submitted_at_date.replace(tzinfo=None),\n",
    "                    \"date\": sub.submitted_at_date.date(),\n",
    "                    \"url\": \"https://canvas.liverpool.ac.uk/courses/{0}/gradebook/speed_grader?assignment_id={1}&anonymous_id={2}\".format(course.id, assignment.id, sub.anonymous_id)\n",
    "                }\n",
    "            )\n",
    "\n",
    "data = pd.DataFrame(rows)    \n",
    "\n",
    "#data = data[data[\"date\"] < max(data[\"date\"].tolist())]"
   ]
  },
  {
   "cell_type": "code",
   "execution_count": 181,
   "id": "751f7bd8",
   "metadata": {},
   "outputs": [
    {
     "data": {
      "text/html": [
       "<div>\n",
       "<style scoped>\n",
       "    .dataframe tbody tr th:only-of-type {\n",
       "        vertical-align: middle;\n",
       "    }\n",
       "\n",
       "    .dataframe tbody tr th {\n",
       "        vertical-align: top;\n",
       "    }\n",
       "\n",
       "    .dataframe thead th {\n",
       "        text-align: right;\n",
       "    }\n",
       "</style>\n",
       "<table border=\"1\" class=\"dataframe\">\n",
       "  <thead>\n",
       "    <tr style=\"text-align: right;\">\n",
       "      <th></th>\n",
       "      <th>course_code</th>\n",
       "      <th>assignment</th>\n",
       "      <th>anonymous_id</th>\n",
       "      <th>score</th>\n",
       "      <th>submitted_at</th>\n",
       "      <th>date</th>\n",
       "      <th>url</th>\n",
       "    </tr>\n",
       "  </thead>\n",
       "  <tbody>\n",
       "    <tr>\n",
       "      <th>0</th>\n",
       "      <td>LIFE113-202122</td>\n",
       "      <td>LIFE113.0 (60%) - Test 2 (Summative)</td>\n",
       "      <td>h3pgr</td>\n",
       "      <td>60.0</td>\n",
       "      <td>2022-01-20 11:44:59</td>\n",
       "      <td>2022-01-20</td>\n",
       "      <td>https://canvas.liverpool.ac.uk/courses/46832/g...</td>\n",
       "    </tr>\n",
       "    <tr>\n",
       "      <th>1</th>\n",
       "      <td>LIFE113-202122</td>\n",
       "      <td>LIFE113.0 (60%) - Test 2 (Summative)</td>\n",
       "      <td>6e6xp</td>\n",
       "      <td>20.0</td>\n",
       "      <td>2022-01-21 13:43:52</td>\n",
       "      <td>2022-01-21</td>\n",
       "      <td>https://canvas.liverpool.ac.uk/courses/46832/g...</td>\n",
       "    </tr>\n",
       "    <tr>\n",
       "      <th>2</th>\n",
       "      <td>LIFE113-202122</td>\n",
       "      <td>LIFE113.0 (60%) - Test 2 (Summative)</td>\n",
       "      <td>gRxLo</td>\n",
       "      <td>30.0</td>\n",
       "      <td>2022-01-21 12:41:04</td>\n",
       "      <td>2022-01-21</td>\n",
       "      <td>https://canvas.liverpool.ac.uk/courses/46832/g...</td>\n",
       "    </tr>\n",
       "    <tr>\n",
       "      <th>3</th>\n",
       "      <td>LIFE113-202122</td>\n",
       "      <td>LIFE113.0 (60%) - Test 2 (Summative)</td>\n",
       "      <td>HCKTn</td>\n",
       "      <td>80.0</td>\n",
       "      <td>2022-01-17 15:42:28</td>\n",
       "      <td>2022-01-17</td>\n",
       "      <td>https://canvas.liverpool.ac.uk/courses/46832/g...</td>\n",
       "    </tr>\n",
       "    <tr>\n",
       "      <th>4</th>\n",
       "      <td>LIFE113-202122</td>\n",
       "      <td>LIFE113.0 (60%) - Test 2 (Summative)</td>\n",
       "      <td>JcvcC</td>\n",
       "      <td>60.0</td>\n",
       "      <td>2022-01-17 18:26:04</td>\n",
       "      <td>2022-01-17</td>\n",
       "      <td>https://canvas.liverpool.ac.uk/courses/46832/g...</td>\n",
       "    </tr>\n",
       "  </tbody>\n",
       "</table>\n",
       "</div>"
      ],
      "text/plain": [
       "      course_code                            assignment anonymous_id  score  \\\n",
       "0  LIFE113-202122  LIFE113.0 (60%) - Test 2 (Summative)        h3pgr   60.0   \n",
       "1  LIFE113-202122  LIFE113.0 (60%) - Test 2 (Summative)        6e6xp   20.0   \n",
       "2  LIFE113-202122  LIFE113.0 (60%) - Test 2 (Summative)        gRxLo   30.0   \n",
       "3  LIFE113-202122  LIFE113.0 (60%) - Test 2 (Summative)        HCKTn   80.0   \n",
       "4  LIFE113-202122  LIFE113.0 (60%) - Test 2 (Summative)        JcvcC   60.0   \n",
       "\n",
       "         submitted_at        date  \\\n",
       "0 2022-01-20 11:44:59  2022-01-20   \n",
       "1 2022-01-21 13:43:52  2022-01-21   \n",
       "2 2022-01-21 12:41:04  2022-01-21   \n",
       "3 2022-01-17 15:42:28  2022-01-17   \n",
       "4 2022-01-17 18:26:04  2022-01-17   \n",
       "\n",
       "                                                 url  \n",
       "0  https://canvas.liverpool.ac.uk/courses/46832/g...  \n",
       "1  https://canvas.liverpool.ac.uk/courses/46832/g...  \n",
       "2  https://canvas.liverpool.ac.uk/courses/46832/g...  \n",
       "3  https://canvas.liverpool.ac.uk/courses/46832/g...  \n",
       "4  https://canvas.liverpool.ac.uk/courses/46832/g...  "
      ]
     },
     "execution_count": 181,
     "metadata": {},
     "output_type": "execute_result"
    }
   ],
   "source": [
    "data.head()"
   ]
  },
  {
   "cell_type": "code",
   "execution_count": 170,
   "id": "24278f20",
   "metadata": {},
   "outputs": [],
   "source": [
    "data.to_excel(\"LIFE113_2022122_online_test_results.xlsx\")"
   ]
  },
  {
   "cell_type": "code",
   "execution_count": null,
   "id": "7d03aac9",
   "metadata": {},
   "outputs": [],
   "source": [
    "summary = data[\"score\"].describe()"
   ]
  },
  {
   "cell_type": "code",
   "execution_count": null,
   "id": "3e6f9f4a",
   "metadata": {},
   "outputs": [],
   "source": []
  },
  {
   "cell_type": "code",
   "execution_count": null,
   "id": "6ee798e8",
   "metadata": {},
   "outputs": [],
   "source": [
    "import matplotlib.pyplot as plt\n",
    "\n",
    "fig, ax = plt.subplots()\n",
    "ax.hist(data[\"score\"])\n",
    "ax.vlines(summary[\"mean\"], ymin=0, ymax=80, color='red')\n",
    "ax.set_xlabel(\"Score\")\n",
    "ax.set_ylabel(\"Frequency\")\n",
    "ax.set_ylim(0, 80)"
   ]
  },
  {
   "cell_type": "code",
   "execution_count": null,
   "id": "9a52b7e4",
   "metadata": {},
   "outputs": [],
   "source": [
    "fig, ax = plt.subplots(figsize=(8, 4))\n",
    "ax2 = ax.twinx()\n",
    "df_gb = data.groupby('date').count()\n",
    "data.boxplot(column='score', by='date', ax=ax)\n",
    "ax2.bar(range(1, len(df_gb['score'])+1), height=df_gb['score'],align='center', alpha=0.3)\n",
    "fig.autofmt_xdate()\n",
    "ax.set_xlabel(\"Date\")\n",
    "ax.set_ylabel(\"Score (%)\")\n",
    "ax2.set_ylabel(\"Number of daily submissions\")\n",
    "ax.set_title(\"\")\n",
    "fig.suptitle(\"\")"
   ]
  },
  {
   "cell_type": "code",
   "execution_count": 131,
   "id": "8ce947e9",
   "metadata": {},
   "outputs": [
    {
     "data": {
      "text/plain": [
       "datetime.date(2022, 10, 31)"
      ]
     },
     "execution_count": 131,
     "metadata": {},
     "output_type": "execute_result"
    }
   ],
   "source": [
    "date(2022, 10, 31)"
   ]
  },
  {
   "cell_type": "code",
   "execution_count": 74,
   "id": "d6e8762d",
   "metadata": {},
   "outputs": [
    {
     "data": {
      "text/plain": [
       "(19296.0, 19300.0)"
      ]
     },
     "execution_count": 74,
     "metadata": {},
     "output_type": "execute_result"
    }
   ],
   "source": [
    "ax.get_xlim()"
   ]
  },
  {
   "cell_type": "code",
   "execution_count": null,
   "id": "0bb897de",
   "metadata": {},
   "outputs": [],
   "source": []
  }
 ],
 "metadata": {
  "kernelspec": {
   "display_name": "Python 3 (ipykernel)",
   "language": "python",
   "name": "python3"
  },
  "language_info": {
   "codemirror_mode": {
    "name": "ipython",
    "version": 3
   },
   "file_extension": ".py",
   "mimetype": "text/x-python",
   "name": "python",
   "nbconvert_exporter": "python",
   "pygments_lexer": "ipython3",
   "version": "3.10.6"
  }
 },
 "nbformat": 4,
 "nbformat_minor": 5
}
