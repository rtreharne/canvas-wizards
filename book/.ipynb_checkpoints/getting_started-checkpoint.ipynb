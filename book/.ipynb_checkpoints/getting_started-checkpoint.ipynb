{
 "cells": [
  {
   "cell_type": "markdown",
   "id": "4d9fed0c",
   "metadata": {},
   "source": [
    "# Getting Started\n",
    "\n",
    "## What is an API?\n",
    "\n",
    "An **application programming interface** (API) is a set of stored functions or procedures that allow you get, create or edit data from an application without having to use a graphical interface (e.g. a website). The Canvas API will allow you to do almost anything that you currently do using the standard user interface. \n",
    "\n",
    "The Canvas API is extremely well documented and, while the documentation may seem somewhat impenetrable at first, reading the docs can solve most problems. Check it out at <a href=\"https://canvas.instructure.com/doc/api/\" target=\"_blank\">https://canvas.instructure.com/doc/api/</a>.\n",
    "\n",
    "*\"So what?\"* - I hear you say. Well, the power of the API lies with the ability to prepare snippets of code (we're going to use **Python** here) to make use of the API's functions in order to automate repetitive tasks and cut your workload dramatically.\n",
    "\n",
    "*\"OMG, I have to write code?\"*. Well, yes. Get over it. It's really not that bad and this book is going to guide you all the way. Deep breath now, let's dive in."
   ]
  },
  {
   "cell_type": "markdown",
   "id": "ba59c0f4",
   "metadata": {},
   "source": [
    "## Setup and Configuration\n",
    "\n",
    "There are about a **zillion** different ways that you could create a coding environment in which you can begin your tranformation to Canvas wizard. The best way for you, to begin with, will be to click the little rocket icon at the top of this page and then click the `Binder` button."
   ]
  },
  {
   "cell_type": "code",
   "execution_count": null,
   "id": "87b54f74",
   "metadata": {},
   "outputs": [],
   "source": []
  }
 ],
 "metadata": {
  "kernelspec": {
   "display_name": "Python 3 (ipykernel)",
   "language": "python",
   "name": "python3"
  },
  "language_info": {
   "codemirror_mode": {
    "name": "ipython",
    "version": 3
   },
   "file_extension": ".py",
   "mimetype": "text/x-python",
   "name": "python",
   "nbconvert_exporter": "python",
   "pygments_lexer": "ipython3",
   "version": "3.10.6"
  }
 },
 "nbformat": 4,
 "nbformat_minor": 5
}
