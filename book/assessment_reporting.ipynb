{
  "cells": [
    {
      "cell_type": "code",
      "execution_count": null,
      "metadata": {
        "colab": {
          "base_uri": "https://localhost:8080/"
        },
        "id": "LTyOuzrTTvqc",
        "outputId": "d7cb2ba0-c64d-4e2b-bd6e-85c1c25712ee"
      },
      "outputs": [
        {
          "output_type": "stream",
          "name": "stdout",
          "text": [
            "Collecting canvasapi\n",
            "  Downloading canvasapi-3.2.0.tar.gz (87 kB)\n",
            "\u001b[2K     \u001b[90m━━━━━━━━━━━━━━━━━━━━━━━━━━━━━━━━━━━━━━━━\u001b[0m \u001b[32m87.0/87.0 kB\u001b[0m \u001b[31m653.7 kB/s\u001b[0m eta \u001b[36m0:00:00\u001b[0m\n",
            "\u001b[?25h  Preparing metadata (setup.py) ... \u001b[?25l\u001b[?25hdone\n",
            "Collecting arrow (from canvasapi)\n",
            "  Downloading arrow-1.3.0-py3-none-any.whl (66 kB)\n",
            "\u001b[2K     \u001b[90m━━━━━━━━━━━━━━━━━━━━━━━━━━━━━━━━━━━━━━━━\u001b[0m \u001b[32m66.4/66.4 kB\u001b[0m \u001b[31m4.2 MB/s\u001b[0m eta \u001b[36m0:00:00\u001b[0m\n",
            "\u001b[?25hRequirement already satisfied: pytz in /usr/local/lib/python3.10/dist-packages (from canvasapi) (2023.3.post1)\n",
            "Requirement already satisfied: requests in /usr/local/lib/python3.10/dist-packages (from canvasapi) (2.31.0)\n",
            "Requirement already satisfied: python-dateutil>=2.7.0 in /usr/local/lib/python3.10/dist-packages (from arrow->canvasapi) (2.8.2)\n",
            "Collecting types-python-dateutil>=2.8.10 (from arrow->canvasapi)\n",
            "  Downloading types_python_dateutil-2.8.19.20240106-py3-none-any.whl (9.7 kB)\n",
            "Requirement already satisfied: charset-normalizer<4,>=2 in /usr/local/lib/python3.10/dist-packages (from requests->canvasapi) (3.3.2)\n",
            "Requirement already satisfied: idna<4,>=2.5 in /usr/local/lib/python3.10/dist-packages (from requests->canvasapi) (3.6)\n",
            "Requirement already satisfied: urllib3<3,>=1.21.1 in /usr/local/lib/python3.10/dist-packages (from requests->canvasapi) (2.0.7)\n",
            "Requirement already satisfied: certifi>=2017.4.17 in /usr/local/lib/python3.10/dist-packages (from requests->canvasapi) (2023.11.17)\n",
            "Requirement already satisfied: six>=1.5 in /usr/local/lib/python3.10/dist-packages (from python-dateutil>=2.7.0->arrow->canvasapi) (1.16.0)\n",
            "Building wheels for collected packages: canvasapi\n",
            "  Building wheel for canvasapi (setup.py) ... \u001b[?25l\u001b[?25hdone\n",
            "  Created wheel for canvasapi: filename=canvasapi-3.2.0-py3-none-any.whl size=113293 sha256=f7ed68491352b853464c5568283cdee1f79f9f8e7d1dc9d44587ddaaa9e841d3\n",
            "  Stored in directory: /root/.cache/pip/wheels/a7/34/d2/a22bfe4552157389421694718e36b676045006d5141fa49c4d\n",
            "Successfully built canvasapi\n",
            "Installing collected packages: types-python-dateutil, arrow, canvasapi\n",
            "Successfully installed arrow-1.3.0 canvasapi-3.2.0 types-python-dateutil-2.8.19.20240106\n"
          ]
        }
      ],
      "source": [
        "# Install canvasapi module\n",
        "\n",
        "!pip install canvasapi"
      ]
    },
    {
      "cell_type": "code",
      "execution_count": null,
      "metadata": {
        "colab": {
          "base_uri": "https://localhost:8080/"
        },
        "id": "8mjAIBHnQIcX",
        "outputId": "dc520410-c943-4d11-9dec-198af5c7821f"
      },
      "outputs": [
        {
          "output_type": "stream",
          "name": "stdout",
          "text": [
            "Getting user data for course 69023. This takes a about 30 sec ...\n",
            "69023 {'id': 256081, 'label': 'LIFE223.1.1 (50%) - Essay (12.'}\n",
            "69023 {'id': 254667, 'label': 'LIFE223.1.3 (50%) - Job Applic'}\n",
            "69023 {'id': 256080, 'label': 'LIFE223.1.3 (50%) - Lay Summar'}\n",
            "69023 {'id': 254665, 'label': 'LIFE223.1.4 (50%) - Scientific'}\n",
            "69023 {'id': 254666, 'label': 'LIFE223.1.5 (50%) - Presentati'}\n"
          ]
        }
      ],
      "source": [
        "# Run this cell to generate report\n",
        "def make_clickable(val):\n",
        "    return f'<a target=\"_blank\" href=\"{val}\">{val}</a>'\n",
        "\n",
        "def get_assigment_submissions(canvas, course_id, assignment_id):\n",
        "  course = canvas.get_course(course_id)\n",
        "  assignment = course.get_assignment(assignment_id)\n",
        "  submissions = [x for x in assignment.get_submissions(include=[\"submission_comments\"])]\n",
        "  return submissions\n",
        "\n",
        "def get_user_by_id(canvas, user_id):\n",
        "  user = canvas.get_user(user_id)\n",
        "  return(user)\n",
        "\n",
        "def get_student_users_by_course(canvas, course_id):\n",
        "  course = canvas.get_course(course_id)\n",
        "\n",
        "  student_dict = {}\n",
        "  enrollments = [x for x in course.get_enrollments() if x.type == \"StudentEnrollment\"]\n",
        "  for e in enrollments:\n",
        "    student_dict[e.user_id] = {\n",
        "        \"login_id\": e.user[\"login_id\"],\n",
        "        \"sis_user_id\": e.user[\"sis_user_id\"],\n",
        "        \"sortable_name\": e.user[\"sortable_name\"]\n",
        "    }\n",
        "  return student_dict\n",
        "\n",
        "def generate_report(canvas, course_id, assignment_id, student_dict, submissions, user_group_map):\n",
        "\n",
        "  rows = []\n",
        "  for i, sub in enumerate(submissions):\n",
        "    try:\n",
        "\n",
        "      row = {\n",
        "          \"login_id\": student_dict[sub.user_id][\"login_id\"],\n",
        "          \"sis_user_id\": student_dict[sub.user_id][\"sis_user_id\"],\n",
        "          \"sortable_name\": student_dict[sub.user_id][\"sortable_name\"],\n",
        "          \"workflow_state\": sub.workflow_state,\n",
        "          \"score\": sub.score,\n",
        "          \"seconds_late\": sub.seconds_late,\n",
        "          \"academic_advisor\": user_group_map[sub.user_id],\n",
        "          \"url\": \"https://liverpool.instructure.com/courses/{0}/gradebook/speed_grader?assignment_id={1}&student_id={2}\".format(course_id, assignment_id, sub.user_id)\n",
        "      }\n",
        "      #row[\"url\"] = \"https://liverpool.instructure.com/courses/{0}/gradebook/speed_grader?assignment_id={1}&student_id={2}\".format(course_id, assignment_id, sub.user_id)\n",
        "      rows.append(row)\n",
        "\n",
        "    except:\n",
        "      continue\n",
        "  df = pd.DataFrame(rows)\n",
        "  return df\n",
        "\n",
        "def create_user_group_map(course):\n",
        "  user_group_dict = {}\n",
        "  groups = [x for x in course.get_groups()]\n",
        "  for group in groups:\n",
        "    for member in [x for x in group.get_memberships()]:\n",
        "      user_group_dict[member.user_id] = group.name\n",
        "  return user_group_dict\n",
        "\n",
        "# important\n",
        "from canvasapi import Canvas\n",
        "import pandas as pd\n",
        "\n",
        "API_URL = \"https://canvas.liverpool.ac.uk\"\n",
        "API_KEY = \"15502~SwOLyK0SBOhLZktbCda0mmxmtZxTern1znfSvsMXfkOFqZLDfBPOVgYZsKD0NRQr\"\n",
        "\n",
        "# create a canvas object\n",
        "canvas = Canvas(API_URL, API_KEY)\n",
        "\n",
        "import datetime\n",
        "datestamp = datetime.datetime.now().strftime(\"%Y%m%dT%H%M%S\")\n",
        "fname = \"{0}_assessment_report.xlsx\".format(datestamp) # Generate dynamic filename\n",
        "\n",
        "# Get course and assignments\n",
        "#course_id = 45768 #LIFE223 202122\n",
        "#course_id = 58609 #LIFE223 202223\n",
        "course_id = 69023 #LIFE223 202324\n",
        "assignments = [x for x in canvas.get_course(course_id).get_assignments()]\n",
        "assignments_list = [{\"id\": a.id, \"label\": a.name[:30]} for a in assignments if \"LIFE223.\" in a.name and a.workflow_state != \"unpublished\" ]\n",
        "\n",
        "# create an input dictionary using course and assignment ids\n",
        "# {course_id: {\"assignments\": [{\"id\": assignment_id, \"label\": <label>}]}\n",
        "assignments_dict = {\n",
        "    course_id: {\"assignments\": assignments_list},\n",
        "}\n",
        "\n",
        "with pd.ExcelWriter(fname) as writer:\n",
        "  for course_id in assignments_dict:\n",
        "    print(\"Getting user data for course {0}. This takes a about 30 sec ...\".format(course_id))\n",
        "    student_dict = get_student_users_by_course(canvas, course_id)\n",
        "    course = canvas.get_course(course_id)\n",
        "    user_group_map = create_user_group_map(course)\n",
        "    assignments = assignments_dict[course_id][\"assignments\"]\n",
        "    for assignment in assignments:\n",
        "      print(course_id, assignment)\n",
        "      submissions = get_assigment_submissions(canvas, course_id, assignment[\"id\"])\n",
        "      df = generate_report(canvas, course_id, assignment[\"id\"], student_dict, submissions, user_group_map)\n",
        "      df = df.sort_values(by=[\"sortable_name\"])\n",
        "\n",
        "\n",
        "      df.loc[df[\"workflow_state\"]==\"submitted\", \"workflow_state\"] = \"ungraded\"\n",
        "      df.loc[(df[\"workflow_state\"]==\"graded\") & (df[\"score\"].isnull()), \"workflow_state\"] = \"EX\"\n",
        "\n",
        "\n",
        "      df.to_excel(writer, sheet_name=assignment[\"label\"], index=False)\n",
        "      df.style.format({'url': make_clickable})\n",
        "\n",
        "      summary = pd.DataFrame(df.groupby(by=[\"academic_advisor\"])[\"score\"].mean())\n",
        "      summary.to_excel(writer, sheet_name=\"{} - SuperSummary\".format(assignment[\"label\"][:11]), index=True)\n",
        "\n"
      ]
    },
    {
      "cell_type": "code",
      "execution_count": null,
      "metadata": {
        "colab": {
          "base_uri": "https://localhost:8080/"
        },
        "id": "J02oB5luwXOx",
        "outputId": "f631a595-d999-4de6-bc79-0ecc0f073fe6"
      },
      "outputs": [
        {
          "output_type": "execute_result",
          "data": {
            "text/plain": [
              "['LIFE223.1.1 (50%) - Essay (12.',\n",
              " 'LIFE223.1.1 - SuperSummary',\n",
              " 'LIFE223.1.3 (50%) - Job Applic',\n",
              " 'LIFE223.1.3 - SuperSummary',\n",
              " 'LIFE223.1.3 (50%) - Lay Summar',\n",
              " 'LIFE223.1.4 (50%) - Scientific',\n",
              " 'LIFE223.1.4 - SuperSummary',\n",
              " 'LIFE223.1.5 (50%) - Presentati',\n",
              " 'LIFE223.1.5 - SuperSummary']"
            ]
          },
          "metadata": {},
          "execution_count": 4
        }
      ],
      "source": [
        "xls = pd.ExcelFile(fname)\n",
        "xls.sheet_names"
      ]
    },
    {
      "cell_type": "code",
      "execution_count": null,
      "metadata": {
        "colab": {
          "base_uri": "https://localhost:8080/"
        },
        "id": "CNDGKVWV2hag",
        "outputId": "5aa3daaf-b160-45e8-c71b-4fa3b85cb16e"
      },
      "outputs": [
        {
          "output_type": "stream",
          "name": "stdout",
          "text": [
            "LIFE223.1.1 (50%) - Please do \n",
            "LIFE223.1.1 (50%) - Essay (12.\n"
          ]
        },
        {
          "output_type": "stream",
          "name": "stderr",
          "text": [
            "<ipython-input-5-4686b598b93b>:10: SettingWithCopyWarning: \n",
            "A value is trying to be set on a copy of a slice from a DataFrame.\n",
            "Try using .loc[row_indexer,col_indexer] = value instead\n",
            "\n",
            "See the caveats in the documentation: https://pandas.pydata.org/pandas-docs/stable/user_guide/indexing.html#returning-a-view-versus-a-copy\n",
            "  new.iloc[half:][\"Moderator\"] = \"Treharne, Robert\"\n",
            "<ipython-input-5-4686b598b93b>:10: SettingWithCopyWarning: \n",
            "A value is trying to be set on a copy of a slice from a DataFrame.\n",
            "Try using .loc[row_indexer,col_indexer] = value instead\n",
            "\n",
            "See the caveats in the documentation: https://pandas.pydata.org/pandas-docs/stable/user_guide/indexing.html#returning-a-view-versus-a-copy\n",
            "  new.iloc[half:][\"Moderator\"] = \"Treharne, Robert\"\n"
          ]
        },
        {
          "output_type": "stream",
          "name": "stdout",
          "text": [
            "LIFE223.1.2 (50%) - Job Applic\n",
            "LIFE223.1.3 (50%) - Lay Summar\n"
          ]
        },
        {
          "output_type": "stream",
          "name": "stderr",
          "text": [
            "<ipython-input-5-4686b598b93b>:10: SettingWithCopyWarning: \n",
            "A value is trying to be set on a copy of a slice from a DataFrame.\n",
            "Try using .loc[row_indexer,col_indexer] = value instead\n",
            "\n",
            "See the caveats in the documentation: https://pandas.pydata.org/pandas-docs/stable/user_guide/indexing.html#returning-a-view-versus-a-copy\n",
            "  new.iloc[half:][\"Moderator\"] = \"Treharne, Robert\"\n",
            "<ipython-input-5-4686b598b93b>:10: SettingWithCopyWarning: \n",
            "A value is trying to be set on a copy of a slice from a DataFrame.\n",
            "Try using .loc[row_indexer,col_indexer] = value instead\n",
            "\n",
            "See the caveats in the documentation: https://pandas.pydata.org/pandas-docs/stable/user_guide/indexing.html#returning-a-view-versus-a-copy\n",
            "  new.iloc[half:][\"Moderator\"] = \"Treharne, Robert\"\n"
          ]
        },
        {
          "output_type": "stream",
          "name": "stdout",
          "text": [
            "LIFE223.1.4 (50%) - Scientific\n",
            "LIFE223.1.5 (50%) - Presentati\n"
          ]
        },
        {
          "output_type": "stream",
          "name": "stderr",
          "text": [
            "<ipython-input-5-4686b598b93b>:10: SettingWithCopyWarning: \n",
            "A value is trying to be set on a copy of a slice from a DataFrame.\n",
            "Try using .loc[row_indexer,col_indexer] = value instead\n",
            "\n",
            "See the caveats in the documentation: https://pandas.pydata.org/pandas-docs/stable/user_guide/indexing.html#returning-a-view-versus-a-copy\n",
            "  new.iloc[half:][\"Moderator\"] = \"Treharne, Robert\"\n"
          ]
        }
      ],
      "source": [
        "with pd.ExcelWriter('LIFE223_202122_MODERATION_RECORD.xlsx') as writer:\n",
        "  for sheet in xls.sheet_names:\n",
        "    if \"%\" in sheet:\n",
        "      print(sheet)\n",
        "      df = pd.read_excel(xls, sheet)\n",
        "      df = df[df[\"workflow_state\"] == \"graded\"]\n",
        "      new = df.sample(frac=0.1)\n",
        "      half = int(len(new)/2)\n",
        "      new[\"Moderator\"] = \"Wattret, Gemma\"\n",
        "      new.iloc[half:][\"Moderator\"] = \"Treharne, Robert\"\n",
        "      new[\"score appropriate?\"] = \"\"\n",
        "      new[\"moderator comments\"] = \"\"\n",
        "      new.to_excel(writer, sheet_name=sheet, index=False)"
      ]
    },
    {
      "cell_type": "code",
      "execution_count": null,
      "metadata": {
        "id": "f3a8CIxd23k5"
      },
      "outputs": [],
      "source": []
    }
  ],
  "metadata": {
    "colab": {
      "provenance": []
    },
    "kernelspec": {
      "display_name": "Python 3",
      "name": "python3"
    },
    "language_info": {
      "name": "python"
    }
  },
  "nbformat": 4,
  "nbformat_minor": 0
}